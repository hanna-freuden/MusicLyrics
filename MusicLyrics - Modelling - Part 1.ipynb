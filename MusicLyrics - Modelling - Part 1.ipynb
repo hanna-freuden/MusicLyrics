{
 "cells": [
  {
   "cell_type": "markdown",
   "metadata": {},
   "source": [
    "# Modelling part 1"
   ]
  },
  {
   "cell_type": "markdown",
   "metadata": {},
   "source": [
    "## 1. Import libraries and explore data"
   ]
  },
  {
   "cell_type": "code",
   "execution_count": 586,
   "metadata": {},
   "outputs": [],
   "source": [
    "#import libraries\n",
    "import pandas as pd\n",
    "import numpy as np\n",
    "import collections\n",
    "import re\n",
    "import sys\n",
    "import time\n",
    "import matplotlib.pyplot as plt\n",
    "from nltk import word_tokenize\n",
    "from nltk.corpus import stopwords\n",
    "from nltk.stem import WordNetLemmatizer\n",
    "from sklearn.feature_extraction.text import TfidfVectorizer\n",
    "import wordninja\n",
    "from itertools import islice\n",
    "import pickle"
   ]
  },
  {
   "cell_type": "code",
   "execution_count": 587,
   "metadata": {},
   "outputs": [],
   "source": [
    "df = pd.DataFrame(pd.read_pickle('df_music'))"
   ]
  },
  {
   "cell_type": "code",
   "execution_count": 588,
   "metadata": {},
   "outputs": [
    {
     "name": "stdout",
     "output_type": "stream",
     "text": [
      "<class 'pandas.core.frame.DataFrame'>\n",
      "RangeIndex: 5100 entries, 0 to 5099\n",
      "Data columns (total 29 columns):\n",
      " #   Column            Non-Null Count  Dtype  \n",
      "---  ------            --------------  -----  \n",
      " 0   Rank              5100 non-null   int64  \n",
      " 1   Song              5100 non-null   object \n",
      " 2   Artist            5100 non-null   object \n",
      " 3   Year              5100 non-null   int64  \n",
      " 4   Lyrics            4913 non-null   object \n",
      " 5   Source            4913 non-null   float64\n",
      " 6   Artists clean     5100 non-null   object \n",
      " 7   artist_song1      5100 non-null   object \n",
      " 8   songs_clean       5100 non-null   object \n",
      " 9   artist_song2      5100 non-null   object \n",
      " 10  danceability      5083 non-null   object \n",
      " 11  energy            5083 non-null   object \n",
      " 12  key               5083 non-null   object \n",
      " 13  loudness          5083 non-null   object \n",
      " 14  mode              5083 non-null   object \n",
      " 15  speechiness       5083 non-null   object \n",
      " 16  acousticness      5083 non-null   object \n",
      " 17  instrumentalness  5083 non-null   object \n",
      " 18  liveness          5083 non-null   object \n",
      " 19  valence           5083 non-null   object \n",
      " 20  tempo             5083 non-null   object \n",
      " 21  type              5083 non-null   object \n",
      " 22  id                5083 non-null   object \n",
      " 23  uri               5083 non-null   object \n",
      " 24  track_href        5083 non-null   object \n",
      " 25  analysis_url      5083 non-null   object \n",
      " 26  duration_ms       5083 non-null   object \n",
      " 27  time_signature    5083 non-null   object \n",
      " 28  error             1 non-null      object \n",
      "dtypes: float64(1), int64(2), object(26)\n",
      "memory usage: 1.1+ MB\n"
     ]
    }
   ],
   "source": [
    "df.info()"
   ]
  },
  {
   "cell_type": "code",
   "execution_count": 589,
   "metadata": {},
   "outputs": [
    {
     "data": {
      "text/plain": [
       "(5100, 29)"
      ]
     },
     "execution_count": 589,
     "metadata": {},
     "output_type": "execute_result"
    }
   ],
   "source": [
    "df.shape"
   ]
  },
  {
   "cell_type": "markdown",
   "metadata": {},
   "source": [
    "## 2. Drop songs without or with missing lyrics"
   ]
  },
  {
   "cell_type": "code",
   "execution_count": 590,
   "metadata": {},
   "outputs": [
    {
     "name": "stdout",
     "output_type": "stream",
     "text": [
      "The number of remaining songs is:  4897\n"
     ]
    }
   ],
   "source": [
    "# drop rows with missing values\n",
    "\n",
    "df = df[df.Lyrics != \" NA \"]\n",
    "df.dropna( how='any', subset=['Lyrics'], inplace=True)\n",
    "#reset index\n",
    "df.reset_index(inplace=True, drop=True)\n",
    "print(\"The number of remaining songs is: \", df.shape[0])"
   ]
  },
  {
   "cell_type": "code",
   "execution_count": 591,
   "metadata": {},
   "outputs": [
    {
     "name": "stdout",
     "output_type": "stream",
     "text": [
      "The number of remaining songs is:  4878\n"
     ]
    }
   ],
   "source": [
    "#remove songs that are instrumental\n",
    "\n",
    "df=df[df['Lyrics']!='instrumental'] \n",
    "df=df[df['Lyrics']!=' instrumental'] \n",
    "df=df[df['Lyrics']!=' instrumental '] \n",
    "df=df[df['Lyrics']!='instrumental ']\n",
    "print(\"The number of remaining songs is: \", df.shape[0])"
   ]
  },
  {
   "cell_type": "markdown",
   "metadata": {},
   "source": [
    "## 3. Clean lyrics and tokenize"
   ]
  },
  {
   "cell_type": "code",
   "execution_count": 592,
   "metadata": {},
   "outputs": [],
   "source": [
    "# clean lyrics - remove punctuation"
   ]
  },
  {
   "cell_type": "code",
   "execution_count": 593,
   "metadata": {},
   "outputs": [],
   "source": [
    "lyrics=[]\n",
    "\n",
    "for lyric in df.Lyrics: \n",
    "    lyric_string=re.sub('[^A-Za-z]+', ' ', lyric)\n",
    "    lyrics_string = re.sub('/\\s\\s+/g', ' ', lyric)\n",
    "    lyrics.append(lyric_string.lstrip())\n"
   ]
  },
  {
   "cell_type": "code",
   "execution_count": 594,
   "metadata": {},
   "outputs": [],
   "source": [
    "# apply wordninja as some lyrics have words crunched together in one string\n",
    "lyrics_clean=[]\n",
    "for lyric in lyrics :\n",
    "    string=wordninja.split(lyric)\n",
    "    title=\"\"\n",
    "    for s in string:\n",
    "        title+=s+\" \" \n",
    "    lyrics_clean.append(title.strip())"
   ]
  },
  {
   "cell_type": "code",
   "execution_count": 595,
   "metadata": {},
   "outputs": [],
   "source": [
    "#add to df\n",
    "df['lyrics_clean']=lyrics_clean"
   ]
  },
  {
   "cell_type": "code",
   "execution_count": 596,
   "metadata": {},
   "outputs": [],
   "source": [
    "#apply lemmatizer and tokenizer\n",
    "# apply word tokenizer, delete stopwords, and apply lemmatizer\n",
    "tokens=[]\n",
    "stop_words = set(stopwords.words('english'))\n",
    "lemmatizer = WordNetLemmatizer()\n",
    "\n",
    "for row in lyrics_clean:\n",
    "    row_tokens=word_tokenize(row)\n",
    "    filtered_sent = [w for w in row_tokens if not w.lower() in stop_words]\n",
    "    stemmed = [lemmatizer.lemmatize(word) for word in filtered_sent]\n",
    "    tokens.append(stemmed)\n",
    "df['tokens']=tokens"
   ]
  },
  {
   "cell_type": "markdown",
   "metadata": {},
   "source": [
    "## 4. Make more features"
   ]
  },
  {
   "cell_type": "code",
   "execution_count": 597,
   "metadata": {},
   "outputs": [
    {
     "data": {
      "text/plain": [
       "4831"
      ]
     },
     "execution_count": 597,
     "metadata": {},
     "output_type": "execute_result"
    }
   ],
   "source": [
    "# more features\n",
    "\n",
    "#get no of unique words per song lyric\n",
    "count_words=[]\n",
    "for row in df.tokens:\n",
    "    unique = set(row) \n",
    "    count_words.append(len(unique))\n",
    "#and add to df\n",
    "df[\"unique_words\"]=count_words\n",
    "\n",
    "#keep only rows where no of words !=0\n",
    "df=df[df['unique_words']!=0]\n",
    "df.shape[0]"
   ]
  },
  {
   "cell_type": "code",
   "execution_count": 598,
   "metadata": {},
   "outputs": [],
   "source": [
    "##get total no of words per song lyric\n",
    "total_words=[]\n",
    "for row in df.tokens:\n",
    "    length = len(row) \n",
    "    total_words.append(length)\n",
    "df['total_words']=total_words"
   ]
  },
  {
   "cell_type": "code",
   "execution_count": 599,
   "metadata": {},
   "outputs": [],
   "source": [
    "## get avg word length\n",
    "word_length=[]\n",
    "for row in df.tokens:\n",
    "    length_row = len(row)\n",
    "    length_word=sum([len(word) for word in row])/length_row\n",
    "    word_length.append(length_word)\n",
    "df['word_length']=word_length"
   ]
  },
  {
   "cell_type": "code",
   "execution_count": 600,
   "metadata": {},
   "outputs": [],
   "source": [
    "## rhyming words\n",
    "\n",
    "#!pip install phyme"
   ]
  },
  {
   "cell_type": "code",
   "execution_count": 601,
   "metadata": {},
   "outputs": [],
   "source": [
    "from Phyme import Phyme\n",
    "\n",
    "ph = Phyme()"
   ]
  },
  {
   "cell_type": "code",
   "execution_count": 602,
   "metadata": {},
   "outputs": [],
   "source": [
    "# find number of words per song that are perfect rhymes \n",
    "#perfect rhymes. DOG -> COG\n",
    "def get_rhymes(word):\n",
    "    list_dict=[value for key,value in ph.get_perfect_rhymes(word).items()]\n",
    "    all_rhymes=[]\n",
    "    for row in list_dict:\n",
    "        for word in row:\n",
    "            all_rhymes.append(word)\n",
    "    all_rhymes=list(set(all_rhymes))\n",
    "    return all_rhymes\n",
    "    \n",
    "def count_rhymes(text):\n",
    "    rhyme_count=0\n",
    "    for word in list(set(text)):\n",
    "        try:\n",
    "            all_rhymes=get_rhymes(word) # get list of all words that rhyme\n",
    "            for x in all_rhymes: # for each of these words, check if it is contained in the lyrics\n",
    "                if x in text:\n",
    "                    rhyme_count+=1\n",
    "                else: \n",
    "                    pass\n",
    "        except:\n",
    "            pass\n",
    "    return rhyme_count          \n",
    "        "
   ]
  },
  {
   "cell_type": "code",
   "execution_count": 603,
   "metadata": {},
   "outputs": [],
   "source": [
    "#apply functions to lists of lyric tokens\n",
    "count_rhyming_words=[]\n",
    "for lyric in df.tokens:\n",
    "    count=count_rhymes(lyric)\n",
    "    count_rhyming_words.append(count)"
   ]
  },
  {
   "cell_type": "code",
   "execution_count": 604,
   "metadata": {},
   "outputs": [],
   "source": [
    "df['count_rhyming_words']=count_rhyming_words"
   ]
  },
  {
   "cell_type": "code",
   "execution_count": 605,
   "metadata": {},
   "outputs": [],
   "source": [
    "#apply tfidf vectorizer after count vecotizer with n_gram_range==5"
   ]
  },
  {
   "cell_type": "code",
   "execution_count": 606,
   "metadata": {},
   "outputs": [
    {
     "data": {
      "text/plain": [
       "756386"
      ]
     },
     "execution_count": 606,
     "metadata": {},
     "output_type": "execute_result"
    }
   ],
   "source": [
    "#count vectorizer\n",
    "from sklearn.feature_extraction.text import CountVectorizer\n",
    "\n",
    "def dummy(tokens):\n",
    "    return tokens\n",
    "\n",
    "cv = CountVectorizer(\n",
    "        tokenizer=dummy,\n",
    "        preprocessor=dummy,\n",
    "        ngram_range=(1, 3)\n",
    "    )  \n",
    "tokens=df.tokens\n",
    "x = cv.fit_transform(tokens)\n",
    "words = cv.get_feature_names()\n",
    "len(words)\n"
   ]
  },
  {
   "cell_type": "code",
   "execution_count": 607,
   "metadata": {},
   "outputs": [],
   "source": [
    "#tfidf vectorizer \n",
    "vectorizer = TfidfVectorizer(tokenizer=dummy,\n",
    "        preprocessor=dummy,\n",
    "        ngram_range=(1, 3), dtype=\"uint8\")\n",
    "\n",
    "X_tfidf = vectorizer.fit(tokens.values) \n",
    "\n",
    "idf_scores = X_tfidf.idf_\n"
   ]
  },
  {
   "cell_type": "code",
   "execution_count": 608,
   "metadata": {},
   "outputs": [
    {
     "data": {
      "text/plain": [
       "['aaa',\n",
       " 'aaa aaa',\n",
       " 'aaa aaa ah',\n",
       " 'aaa aaa dont',\n",
       " 'aaa ah',\n",
       " 'aaa ah aaa',\n",
       " 'aaa dont',\n",
       " 'aaa dont leave',\n",
       " 'aaa dont try',\n",
       " 'aaa huh']"
      ]
     },
     "execution_count": 608,
     "metadata": {},
     "output_type": "execute_result"
    }
   ],
   "source": [
    "X_tfidf.get_feature_names()[:10]"
   ]
  },
  {
   "cell_type": "code",
   "execution_count": 609,
   "metadata": {},
   "outputs": [],
   "source": [
    "#filter out ngrams that occur in too few or too many songs\n",
    "#DO THE CUTOFFS MAKE SENSE??\n",
    "filtered_indices = np.argwhere(((idf_scores> 8) & (idf_scores<11.55) ))\n",
    "filtered_indices = [idx[0] for idx in filtered_indices]\n",
    "\n",
    "#list of vocabulary from the vectorizer\n",
    "vocabulary = X_tfidf.get_feature_names()\n",
    "\n",
    "#preparing a list with filtered vocabulary\n",
    "filtered_voc = [vocabulary[i] for i in filtered_indices]"
   ]
  },
  {
   "cell_type": "code",
   "execution_count": 610,
   "metadata": {},
   "outputs": [
    {
     "data": {
      "text/plain": [
       "['aaa aaa',\n",
       " 'aaa aaa ah',\n",
       " 'aaa aaa dont',\n",
       " 'aaa ah',\n",
       " 'aaa ah aaa',\n",
       " 'aaa dont',\n",
       " 'aaa dont leave',\n",
       " 'aaa dont try',\n",
       " 'aaa huh',\n",
       " 'aaa huh hah',\n",
       " 'aaa ill',\n",
       " 'aaa ill never',\n",
       " 'aaa look',\n",
       " 'aaa look around',\n",
       " 'aaa oh',\n",
       " 'aaa oh dont',\n",
       " 'aaa yea',\n",
       " 'aaa yea yea',\n",
       " 'aaaa aaaa',\n",
       " 'aaaa aaaa aaaa',\n",
       " 'aaaa get',\n",
       " 'aaaa get bang',\n",
       " 'aaaa h',\n",
       " 'aaaa h ah',\n",
       " 'aaaa hey',\n",
       " 'aaaa hey yo',\n",
       " 'aaaa oh',\n",
       " 'aaaa oh oh',\n",
       " 'aaaa oho',\n",
       " 'aaaa oho hh',\n",
       " 'aaaa ooo',\n",
       " 'aaaa ooo ow',\n",
       " 'aaaa sean',\n",
       " 'aaaa sean paul',\n",
       " 'aaaa take',\n",
       " 'aaaa take meanwhile',\n",
       " 'aaaa woo',\n",
       " 'aaaa woo ooo',\n",
       " 'aaaa yea',\n",
       " 'aaaa yea town',\n",
       " 'aaaaaa aaaaaa',\n",
       " 'aaaaaa aaaaaa aaaaaa',\n",
       " 'aaaaaa aaaaaa h',\n",
       " 'aaaaaa ah',\n",
       " 'aaaaaa ah want',\n",
       " 'aaaaaa baa',\n",
       " 'aaaaaa boy',\n",
       " 'aaaaaa boy worth',\n",
       " 'aaaaaa h',\n",
       " 'aaaaaa h dont',\n",
       " 'aaaaaa h meet',\n",
       " 'aaaaaa mack',\n",
       " 'aaaaaa mack dope',\n",
       " 'aaaaaa oho',\n",
       " 'aaaaaa oho hoh',\n",
       " 'aaaaaa time',\n",
       " 'aaaaaa time new',\n",
       " 'aaliyah brandy',\n",
       " 'aaliyah brandy tell',\n",
       " 'aaliyah g',\n",
       " 'aaliyah g u',\n",
       " 'aaliyah see',\n",
       " 'aaliyah see feel',\n",
       " 'aaliyah sing',\n",
       " 'aaliyah sing girl',\n",
       " 'aaliyah take',\n",
       " 'aaliyah take flight',\n",
       " 'aaliyah talk',\n",
       " 'aaliyah talk back',\n",
       " 'aami',\n",
       " 'aami may',\n",
       " 'aami may real',\n",
       " 'aap',\n",
       " 'aap rocky',\n",
       " 'aap rocky hold',\n",
       " 'ab',\n",
       " 'ab dont',\n",
       " 'ab dont surprised',\n",
       " 'ab sol',\n",
       " 'ab sol ut',\n",
       " 'ab video',\n",
       " 'ab video called',\n",
       " 'aba',\n",
       " 'aba doo',\n",
       " 'aba doo make',\n",
       " 'abaca',\n",
       " 'abaca abra',\n",
       " 'abaca abra sadder',\n",
       " 'abandon',\n",
       " 'abandon honey',\n",
       " 'abandon honey dont',\n",
       " 'abandoned alone',\n",
       " 'abandoned alone without',\n",
       " 'abandoned heart',\n",
       " 'abandoned heart doesnt',\n",
       " 'abandoned nowhere',\n",
       " 'abandoned nowhere hide',\n",
       " 'abandoned ruin',\n",
       " 'abandoned ruin dream',\n",
       " 'abandoned side',\n",
       " 'abandoned side eye',\n",
       " 'abb',\n",
       " 'abb shit',\n",
       " 'abb shit make',\n",
       " 'abba',\n",
       " 'abba abba',\n",
       " 'abba abba hoochie',\n",
       " 'abba doo',\n",
       " 'abba doo hip',\n",
       " 'abba early',\n",
       " 'abba early morning',\n",
       " 'abba hoochie',\n",
       " 'abba hoochie koo',\n",
       " 'abba le',\n",
       " 'abba le le',\n",
       " 'abba n',\n",
       " 'abba n abba',\n",
       " 'abba noo',\n",
       " 'abba noo abba',\n",
       " 'abba sib',\n",
       " 'abba sib abba',\n",
       " 'abbey',\n",
       " 'abbey london',\n",
       " 'abbey london march',\n",
       " 'abbey road',\n",
       " 'abbey road day',\n",
       " 'abbot',\n",
       " 'abbot costello',\n",
       " 'abbot costello fruit',\n",
       " 'abbreviation',\n",
       " 'abbreviation dont',\n",
       " 'abbreviation dont even',\n",
       " 'abc',\n",
       " 'abc bb',\n",
       " 'abc bb east',\n",
       " 'abc come',\n",
       " 'abc come come',\n",
       " 'abc please',\n",
       " 'abc please plenty',\n",
       " 'abdicate',\n",
       " 'abdicate want',\n",
       " 'abdicate want time',\n",
       " 'abdominal',\n",
       " 'abdominal rob',\n",
       " 'abdominal rob bar',\n",
       " 'abduction',\n",
       " 'abduction boy',\n",
       " 'abduction boy alien',\n",
       " 'abdul',\n",
       " 'abdul baby',\n",
       " 'abdul baby seems',\n",
       " 'abel',\n",
       " 'abel mister',\n",
       " 'abel mister catch',\n",
       " 'abel te',\n",
       " 'abel te faye',\n",
       " 'abercrombie',\n",
       " 'abercrombie fitch',\n",
       " 'abercrombie fitch id',\n",
       " 'abercrombie fitch new',\n",
       " 'abi',\n",
       " 'abi everything',\n",
       " 'abi everything want',\n",
       " 'abide puffin',\n",
       " 'abide puffin high',\n",
       " 'abide spectator',\n",
       " 'abide spectator show',\n",
       " 'abide tide',\n",
       " 'abide tide catchy',\n",
       " 'abide usg',\n",
       " 'abide usg besides',\n",
       " 'abide watch',\n",
       " 'abide watch step',\n",
       " 'ability',\n",
       " 'ability reason',\n",
       " 'ability reason swept',\n",
       " 'ability take',\n",
       " 'ability take everything',\n",
       " 'ablaze bring',\n",
       " 'ablaze bring lover',\n",
       " 'ablaze important',\n",
       " 'ablaze important say',\n",
       " 'ablaze moon',\n",
       " 'ablaze moon yellow',\n",
       " 'ablaze summer',\n",
       " 'ablaze summer time',\n",
       " 'able body',\n",
       " 'able body calling',\n",
       " 'able boy',\n",
       " 'able boy well',\n",
       " 'able cant',\n",
       " 'able cant pretend',\n",
       " 'able carry',\n",
       " 'able carry yeah',\n",
       " 'able control',\n",
       " 'able control nt',\n",
       " 'able could',\n",
       " 'able could read',\n",
       " 'able cum',\n",
       " 'able cum need',\n",
       " 'able enter',\n",
       " 'able enter final',\n",
       " 'able fall',\n",
       " 'able fall love',\n",
       " 'able feel',\n",
       " 'able feel way',\n",
       " 'able fight',\n",
       " 'able fight till',\n",
       " 'able find',\n",
       " 'able find mgm',\n",
       " 'able freddie',\n",
       " 'able freddie mac',\n",
       " 'able fuckin',\n",
       " 'able fuckin thing',\n",
       " 'able give',\n",
       " 'able give heart',\n",
       " 'able give something',\n",
       " 'able god',\n",
       " 'able god willing',\n",
       " 'able good',\n",
       " 'able good deny',\n",
       " 'able hard',\n",
       " 'able hard resist',\n",
       " 'able help',\n",
       " 'able help lay',\n",
       " 'able huh',\n",
       " 'able huh life',\n",
       " 'able jump',\n",
       " 'able jump shout',\n",
       " 'able keep',\n",
       " 'able keep family',\n",
       " 'able keep quiet',\n",
       " 'able keep way',\n",
       " 'able land',\n",
       " 'able land milk',\n",
       " 'able laughed',\n",
       " 'able laughed body',\n",
       " 'able laughed came',\n",
       " 'able let',\n",
       " 'able let go',\n",
       " 'able like',\n",
       " 'able like cow',\n",
       " 'able love',\n",
       " 'able love like',\n",
       " 'able make',\n",
       " 'able make move',\n",
       " 'able make way',\n",
       " 'able odds',\n",
       " 'able odds like',\n",
       " 'able please',\n",
       " 'able please dont',\n",
       " 'able please yeah',\n",
       " 'able rosemary',\n",
       " 'able rosemary granddaughter',\n",
       " 'able say',\n",
       " 'able say hooray',\n",
       " 'able see',\n",
       " 'able see anymore',\n",
       " 'able see sign',\n",
       " 'able see thing',\n",
       " 'able stone',\n",
       " 'able stone try',\n",
       " 'able touch',\n",
       " 'able touch tell',\n",
       " 'able type',\n",
       " 'able type guy',\n",
       " 'able unlike',\n",
       " 'able unlike home',\n",
       " 'abo got',\n",
       " 'abo got play',\n",
       " 'abo know',\n",
       " 'abo know song',\n",
       " 'abo lou',\n",
       " 'abo lou busta',\n",
       " 'abo lou chain',\n",
       " 'abo lou f',\n",
       " 'abo lou sing',\n",
       " 'abo lou thang',\n",
       " 'abo lou uh',\n",
       " 'abo man',\n",
       " 'abo man got',\n",
       " 'aboard baby',\n",
       " 'aboard baby get',\n",
       " 'aboard bitch',\n",
       " 'aboard bitch like',\n",
       " 'aboard britney',\n",
       " 'aboard britney go',\n",
       " 'aboard cast',\n",
       " 'aboard cast away',\n",
       " 'aboard dream',\n",
       " 'aboard dream weaver',\n",
       " 'aboard mississippi',\n",
       " 'aboard mississippi queen',\n",
       " 'aboard private',\n",
       " 'aboard private g',\n",
       " 'aboard spontaneous',\n",
       " 'aboard spontaneous express',\n",
       " 'aboard starship',\n",
       " 'aboard starship headed',\n",
       " 'aboard surrey',\n",
       " 'aboard surrey first',\n",
       " 'aboard well',\n",
       " 'aboard well search',\n",
       " 'abode',\n",
       " 'abode get',\n",
       " 'abode get jolt',\n",
       " 'aborigine',\n",
       " 'aborigine oh',\n",
       " 'aborigine oh moon',\n",
       " 'abort',\n",
       " 'abort countdown',\n",
       " 'abort countdown start',\n",
       " 'abort day',\n",
       " 'abort day go',\n",
       " 'abortion',\n",
       " 'abortion erica',\n",
       " 'abortion erica stuck',\n",
       " 'abortion love',\n",
       " 'abortion love hate',\n",
       " 'abou',\n",
       " 'abou bad',\n",
       " 'abou bad girl',\n",
       " 'abounding',\n",
       " 'abounding falsehood',\n",
       " 'abounding falsehood derision',\n",
       " 'abounding lie',\n",
       " 'abounding lie derision',\n",
       " 'abra',\n",
       " 'abra abracadabra',\n",
       " 'abra abracadabra abracadabra',\n",
       " 'abra abracadabra want',\n",
       " 'abra sadder',\n",
       " 'abra sadder thought',\n",
       " 'abra z',\n",
       " 'abra z arte',\n",
       " 'abracadabra',\n",
       " 'abracadabra abracadabra',\n",
       " 'abracadabra abracadabra every',\n",
       " 'abracadabra abracadabra feel',\n",
       " 'abracadabra abracadabra make',\n",
       " 'abracadabra every',\n",
       " 'abracadabra every time',\n",
       " 'abracadabra feel',\n",
       " 'abracadabra feel magic',\n",
       " 'abracadabra make',\n",
       " 'abracadabra make hot',\n",
       " 'abracadabra want',\n",
       " 'abracadabra want reach',\n",
       " 'abrasive',\n",
       " 'abrasive know',\n",
       " 'abrasive know pace',\n",
       " 'abroad',\n",
       " 'abroad transferred',\n",
       " 'abroad transferred harvard',\n",
       " 'abruptly',\n",
       " 'abruptly thing',\n",
       " 'abruptly thing want',\n",
       " 'absence',\n",
       " 'absence make',\n",
       " 'absence make heart',\n",
       " 'absence security',\n",
       " 'absence security made',\n",
       " 'absolute',\n",
       " 'absolute tell',\n",
       " 'absolute tell worship',\n",
       " 'absolutely drive',\n",
       " 'absolutely drive wild',\n",
       " 'absolutely j',\n",
       " 'absolutely j iggy',\n",
       " 'absolutely love',\n",
       " 'absolutely love smile',\n",
       " 'absolutely love story',\n",
       " 'absolutely nailed',\n",
       " 'absolutely nailed love',\n",
       " 'absolutely nothing',\n",
       " 'absolutely nothing listen',\n",
       " 'absolutely nothing oh',\n",
       " 'absolutely nothing say',\n",
       " 'absolutely one',\n",
       " 'absolutely one know',\n",
       " 'absorb',\n",
       " 'absorb sound',\n",
       " 'absorb sound keep',\n",
       " 'absorbed',\n",
       " 'absorbed earth',\n",
       " 'absorbed earth double',\n",
       " 'absorbed earth street',\n",
       " 'absorber',\n",
       " 'absorber come',\n",
       " 'absorber come boog',\n",
       " 'absurd could',\n",
       " 'absurd could cant',\n",
       " 'absurd dont',\n",
       " 'absurd dont naive',\n",
       " 'absurd get',\n",
       " 'absurd get money',\n",
       " 'absurd man',\n",
       " 'absurd man bird',\n",
       " 'absurd please',\n",
       " 'absurd please tell',\n",
       " 'absurd sad',\n",
       " 'absurd sad sad',\n",
       " 'absurdity',\n",
       " 'absurdity e',\n",
       " 'absurdity e vry',\n",
       " 'abu',\n",
       " 'abu ela',\n",
       " 'abu ela got',\n",
       " 'abuse c',\n",
       " 'abuse c au',\n",
       " 'abuse criticize',\n",
       " 'abuse criticize accuse',\n",
       " 'abuse get',\n",
       " 'abuse get crowd',\n",
       " 'abuse get way',\n",
       " 'abuse got',\n",
       " 'abuse got hard',\n",
       " 'abuse hurry',\n",
       " 'abuse hurry finish',\n",
       " 'abuse leaf',\n",
       " 'abuse leaf bruise',\n",
       " 'abuse man',\n",
       " 'abuse man stand',\n",
       " 'abuse never',\n",
       " 'abuse never going',\n",
       " 'abuse never gon',\n",
       " 'abuse still',\n",
       " 'abuse still cant',\n",
       " 'abuse want',\n",
       " 'abuse want abused',\n",
       " 'abused another',\n",
       " 'abused another junkie',\n",
       " 'abused baby',\n",
       " 'abused baby make',\n",
       " 'abused get',\n",
       " 'abused get way',\n",
       " 'abused im',\n",
       " 'abused im confused',\n",
       " 'abused ink',\n",
       " 'abused ink used',\n",
       " 'abused like',\n",
       " 'abused like coffee',\n",
       " 'abused somebody',\n",
       " 'abused somebody blew',\n",
       " 'abused someone',\n",
       " 'abused someone getting',\n",
       " 'abused swear',\n",
       " 'abused swear ill',\n",
       " 'abused sweet',\n",
       " 'abused sweet dream',\n",
       " 'abusing',\n",
       " 'abusing victimize',\n",
       " 'abusing victimize within',\n",
       " 'ac cool',\n",
       " 'ac cool system',\n",
       " 'ac im',\n",
       " 'ac im foolish',\n",
       " 'ac k',\n",
       " 'ac k sounding',\n",
       " 'ac part',\n",
       " 'ac part band',\n",
       " 'ac vent',\n",
       " 'ac vent jesus',\n",
       " 'ac voice',\n",
       " 'ac voice ring',\n",
       " 'ac watch',\n",
       " 'ac watch nigga',\n",
       " 'aca',\n",
       " 'academy',\n",
       " 'academy rain',\n",
       " 'academy rain check',\n",
       " 'acc',\n",
       " 'acc roche',\n",
       " 'acc roche ton',\n",
       " 'acc usa',\n",
       " 'acc usa te',\n",
       " 'acca',\n",
       " 'acca know',\n",
       " 'acca know never',\n",
       " 'accelerate',\n",
       " 'accelerate annie',\n",
       " 'accelerate annie took',\n",
       " 'accent e',\n",
       " 'accent e pronounced',\n",
       " 'accent ground',\n",
       " 'accent ground relax',\n",
       " 'accent really',\n",
       " 'accent really thick',\n",
       " 'accent still',\n",
       " 'accent still moving',\n",
       " 'accent tried',\n",
       " 'accent tried change',\n",
       " 'accept black',\n",
       " 'accept black one',\n",
       " 'accept blind',\n",
       " 'accept blind faith',\n",
       " 'accept defeat',\n",
       " 'accept defeat uphill',\n",
       " 'accept defeat yes',\n",
       " 'accept estranged',\n",
       " 'accept estranged without',\n",
       " 'accept fact',\n",
       " 'accept fact im',\n",
       " 'accept fashion',\n",
       " 'accept fashion sense',\n",
       " 'accept green',\n",
       " 'accept green one',\n",
       " 'accept im',\n",
       " 'accept im accepting',\n",
       " 'accept love',\n",
       " 'accept love dedicate',\n",
       " 'accept mr',\n",
       " 'accept mr phelps',\n",
       " 'accept phone',\n",
       " 'accept phone call',\n",
       " 'accept pretend',\n",
       " 'accept pretend hurt',\n",
       " 'accept real',\n",
       " 'accept real tell',\n",
       " 'accept red',\n",
       " 'accept red one',\n",
       " 'accept riff',\n",
       " 'accept riff caught',\n",
       " 'accept tape',\n",
       " 'accept tape self',\n",
       " 'accept thing',\n",
       " 'accept thing regret',\n",
       " 'accept time',\n",
       " 'accept time gone',\n",
       " 'accept white',\n",
       " 'accept white one',\n",
       " 'accept world',\n",
       " 'accept world gone',\n",
       " 'accept world im',\n",
       " 'accept young',\n",
       " 'accept young trainee',\n",
       " 'acceptable',\n",
       " 'acceptable respectable',\n",
       " 'acceptable respectable presentable',\n",
       " 'acceptance',\n",
       " 'acceptance em',\n",
       " 'acceptance em call',\n",
       " 'accepted add',\n",
       " 'accepted add broken',\n",
       " 'accepted chance',\n",
       " 'accepted chance disconnected',\n",
       " 'accepted felt',\n",
       " 'accepted felt ashamed',\n",
       " 'accepted smile',\n",
       " 'accepted smile drove',\n",
       " 'accepting',\n",
       " 'accepting thing',\n",
       " 'accepting thing long',\n",
       " 'access',\n",
       " 'access old',\n",
       " 'access old crib',\n",
       " 'access villa',\n",
       " 'access villa trespasser',\n",
       " 'accident',\n",
       " 'accident couldnt',\n",
       " 'accident couldnt come',\n",
       " 'accident happen',\n",
       " 'accident happen heard',\n",
       " 'accident like',\n",
       " 'accident like geico',\n",
       " 'accidentally',\n",
       " 'accidentally say',\n",
       " 'accidentally say name',\n",
       " 'accidentally slip',\n",
       " 'accidentally slip fall',\n",
       " 'accomplished',\n",
       " 'accomplished thing',\n",
       " 'accomplished thing baby',\n",
       " 'accomplished thing nt',\n",
       " 'accomplishment',\n",
       " 'accomplishment faded',\n",
       " 'accomplishment faded way',\n",
       " 'accomplishment helped',\n",
       " 'accomplishment helped one',\n",
       " 'accord',\n",
       " 'accord one',\n",
       " 'accord one accord',\n",
       " 'accord yes',\n",
       " 'accord yes gather',\n",
       " 'according',\n",
       " 'according according',\n",
       " 'according according according',\n",
       " 'according according im',\n",
       " 'according im',\n",
       " 'according im beautiful',\n",
       " 'according im boring',\n",
       " 'according im difficult',\n",
       " 'according im funny',\n",
       " 'according im stupid',\n",
       " 'according need',\n",
       " 'according need feel',\n",
       " 'according stupid',\n",
       " 'according stupid useless',\n",
       " 'according suck',\n",
       " 'according suck telling',\n",
       " 'account accountant',\n",
       " 'account accountant count',\n",
       " 'account another',\n",
       " 'account another one',\n",
       " 'account bank',\n",
       " 'account bank teller',\n",
       " 'account big',\n",
       " 'account big time',\n",
       " 'account bigger',\n",
       " 'account bigger law',\n",
       " 'account blaze',\n",
       " 'account blaze street',\n",
       " 'account fatality',\n",
       " 'account fatality kept',\n",
       " 'account poverty',\n",
       " 'account poverty value',\n",
       " 'account pretty',\n",
       " 'account pretty lady',\n",
       " 'account received',\n",
       " 'account received seventeen',\n",
       " 'account want',\n",
       " 'account want spend',\n",
       " 'accountant',\n",
       " 'accountant count',\n",
       " 'accountant count make',\n",
       " 'accountant pay',\n",
       " 'accountant pay say',\n",
       " 'accountant say',\n",
       " 'accountant say got',\n",
       " 'accurate',\n",
       " 'accurate get',\n",
       " 'accurate get flow',\n",
       " 'accurate ka',\n",
       " 'accurate ka benn',\n",
       " 'accusation',\n",
       " 'accusation fly',\n",
       " 'accusation fly use',\n",
       " 'accusation gon',\n",
       " 'accusation gon na',\n",
       " 'accuse',\n",
       " 'accuse better',\n",
       " 'accuse better walk',\n",
       " 'accuse walk',\n",
       " 'accuse walk mile',\n",
       " 'accused bruno',\n",
       " 'accused bruno mar',\n",
       " 'accused im',\n",
       " 'accused im league',\n",
       " 'accused innocent',\n",
       " 'accused innocent man',\n",
       " 'accused tried',\n",
       " 'accused tried told',\n",
       " 'accuser',\n",
       " 'accuser head',\n",
       " 'accuser head lost',\n",
       " 'accusing',\n",
       " 'accusing eye',\n",
       " 'accusing eye keep',\n",
       " 'accusing skin',\n",
       " 'accusing skin question',\n",
       " 'accustomed',\n",
       " 'accustomed fast',\n",
       " 'accustomed fast life',\n",
       " 'ace ace',\n",
       " 'ace ace ive',\n",
       " 'ace could',\n",
       " 'ace could keep',\n",
       " 'ace cup',\n",
       " 'ace cup goose',\n",
       " 'ace hood',\n",
       " 'ace hood hell',\n",
       " 'ace hood yeah',\n",
       " 'ace ive',\n",
       " 'ace ive got',\n",
       " 'ace ler',\n",
       " 'ace ler mi',\n",
       " 'ace man',\n",
       " 'ace man mello',\n",
       " 'ace play',\n",
       " 'ace play winner',\n",
       " 'ace taste',\n",
       " 'ace taste whiskey',\n",
       " 'ace wan',\n",
       " 'ace wan na',\n",
       " 'ace want',\n",
       " 'ace want raise',\n",
       " 'acer',\n",
       " 'acer el',\n",
       " 'acer el ten',\n",
       " 'acer lo',\n",
       " 'acer lo enrique',\n",
       " 'acer ma',\n",
       " 'acer ma come',\n",
       " 'ach',\n",
       " 'ach ach',\n",
       " 'ach ach buddy',\n",
       " 'ach buddy',\n",
       " 'ach buddy gon',\n",
       " 'ach mo',\n",
       " 'ach mo king',\n",
       " 'acha',\n",
       " 'acha chach',\n",
       " 'acha chach chach',\n",
       " 'ache ache',\n",
       " 'ache ache let',\n",
       " 'ache bone',\n",
       " 'ache bone end',\n",
       " 'ache dont',\n",
       " 'ache dont know',\n",
       " 'ache dream',\n",
       " 'ache dream come',\n",
       " 'ache every',\n",
       " 'ache every step',\n",
       " 'ache everyone',\n",
       " 'ache everyone u',\n",
       " 'ache gave',\n",
       " 'ache gave body',\n",
       " 'ache hold',\n",
       " 'ache hold like',\n",
       " 'ache lem',\n",
       " 'ache lem get',\n",
       " 'ache let',\n",
       " 'ache let give',\n",
       " 'ache like',\n",
       " 'ache like junkie',\n",
       " 'ache love',\n",
       " 'ache love dont',\n",
       " 'ache loved',\n",
       " 'ache loved seven',\n",
       " 'ache nobody',\n",
       " 'ache nobody ache',\n",
       " 'ache pain',\n",
       " 'ache pain heart',\n",
       " 'ache put',\n",
       " 'ache put lime',\n",
       " 'ache risk',\n",
       " 'ache risk wouldnt',\n",
       " 'ache said',\n",
       " 'ache said doctor',\n",
       " 'ache say',\n",
       " 'ache say well',\n",
       " 'ache say ya',\n",
       " 'ache see',\n",
       " 'ache see else',\n",
       " 'ache something',\n",
       " 'ache something new',\n",
       " 'ache still',\n",
       " 'ache still remember',\n",
       " 'ache think',\n",
       " 'ache think type',\n",
       " 'ache yeah',\n",
       " 'ache yeah sometimes',\n",
       " 'achieve achieve',\n",
       " 'achieve achieve believe',\n",
       " 'achieve achieve come',\n",
       " 'achieve achieve oh',\n",
       " 'achieve believe',\n",
       " 'achieve believe somehow',\n",
       " 'achieve come',\n",
       " 'achieve come little',\n",
       " 'achieve first',\n",
       " 'achieve first know',\n",
       " 'achieve learning',\n",
       " 'achieve learning love',\n",
       " 'achieve love',\n",
       " 'achieve love sublime',\n",
       " 'achieve oh',\n",
       " 'achieve oh believe',\n",
       " 'achieve say',\n",
       " 'achieve say like',\n",
       " 'achieved',\n",
       " 'achieved may',\n",
       " 'achieved may hard',\n",
       " 'achiever',\n",
       " 'achiever ive',\n",
       " 'achiever ive learned',\n",
       " 'aching begging',\n",
       " 'aching begging come',\n",
       " 'aching cant',\n",
       " 'aching cant stand',\n",
       " 'aching dawn',\n",
       " 'aching dawn breaking',\n",
       " 'aching doctor',\n",
       " 'aching doctor said',\n",
       " 'aching heart',\n",
       " 'aching heart feeling',\n",
       " 'aching heart would',\n",
       " 'aching inside',\n",
       " 'aching inside head',\n",
       " 'aching need',\n",
       " 'aching need say',\n",
       " 'aching rub',\n",
       " 'aching rub want',\n",
       " 'aching shy',\n",
       " 'aching shy say',\n",
       " 'aching time',\n",
       " 'aching time goodbye',\n",
       " 'aching time hand',\n",
       " 'achoo',\n",
       " 'achoo mr',\n",
       " 'achoo mr robinson',\n",
       " 'acht',\n",
       " 'acht das',\n",
       " 'acht das e',\n",
       " 'achy',\n",
       " 'achy breaky',\n",
       " 'achy breaky heart',\n",
       " 'aci',\n",
       " 'aci go',\n",
       " 'aci go way',\n",
       " 'aci mu',\n",
       " 'aci mu ere',\n",
       " 'aci sean',\n",
       " 'aci sean da',\n",
       " 'acid',\n",
       " 'acid bottle',\n",
       " 'acid bottle got',\n",
       " 'acid come',\n",
       " 'acid come get',\n",
       " 'acid pd',\n",
       " 'acid pd rollin',\n",
       " 'acker',\n",
       " 'acker coma',\n",
       " 'acker coma girl',\n",
       " 'acker sight',\n",
       " 'acker sight everything',\n",
       " 'acknowledge',\n",
       " 'acknowledge quick',\n",
       " 'acknowledge quick like',\n",
       " 'acknowledge smile',\n",
       " 'acknowledge smile try',\n",
       " 'acme',\n",
       " 'acme heav',\n",
       " 'acme heav iggy',\n",
       " 'acne',\n",
       " 'acne doubt',\n",
       " 'acne doubt put',\n",
       " 'acne take',\n",
       " 'acne take honey',\n",
       " 'acoustic',\n",
       " 'acoustic guitar',\n",
       " 'acoustic guitar plus',\n",
       " 'acoustic version',\n",
       " 'acoustic version clive',\n",
       " 'acquainted',\n",
       " 'acquainted love',\n",
       " 'acquainted love real',\n",
       " 'acquired',\n",
       " 'acquired cool',\n",
       " 'acquired cool inspired',\n",
       " 'acquisition',\n",
       " 'acquisition friend',\n",
       " 'acquisition friend expedition',\n",
       " 'acr',\n",
       " 'acr u',\n",
       " 'acr u ville',\n",
       " 'acre land',\n",
       " 'acre land achieved',\n",
       " 'acre land got',\n",
       " 'acre land side',\n",
       " 'acre live',\n",
       " 'acre live even',\n",
       " 'acre lower',\n",
       " 'acre lower forty',\n",
       " 'acre paper',\n",
       " 'acre paper look',\n",
       " 'acrobat',\n",
       " 'acrobat pack',\n",
       " 'acrobat pack mac',\n",
       " 'acrobat shadowboxing',\n",
       " 'acrobat shadowboxing half',\n",
       " 'acrobat want',\n",
       " 'acrobat want lover',\n",
       " 'acrobatic',\n",
       " 'acrobatic dynamite',\n",
       " 'acrobatic dynamite attraction',\n",
       " 'across alabama',\n",
       " 'across alabama line',\n",
       " 'across arm',\n",
       " 'across arm hiding',\n",
       " 'across back',\n",
       " 'across back right',\n",
       " 'across badlands',\n",
       " 'across badlands feel',\n",
       " 'across bar',\n",
       " 'across bar punch',\n",
       " 'across bar seat',\n",
       " 'across bar staring',\n",
       " 'across bay',\n",
       " 'across bay summer',\n",
       " 'across believe',\n",
       " 'across believe pray',\n",
       " 'across big',\n",
       " 'across big brass',\n",
       " 'across block',\n",
       " 'across block get',\n",
       " 'across block smile',\n",
       " 'across blue',\n",
       " 'across blue lake',\n",
       " 'across ce',\n",
       " 'across ce il',\n",
       " 'across country',\n",
       " 'across country go',\n",
       " 'across country label',\n",
       " 'across crowded',\n",
       " 'across crowded floor',\n",
       " 'across crowded room',\n",
       " 'across da',\n",
       " 'across da eye',\n",
       " 'across depot',\n",
       " 'across depot bar',\n",
       " 'across desert',\n",
       " 'across desert fine',\n",
       " 'across desert ill',\n",
       " 'across distance',\n",
       " 'across distance space',\n",
       " 'across dream',\n",
       " 'across dream net',\n",
       " 'across endless',\n",
       " 'across endless sea',\n",
       " 'across face',\n",
       " 'across face ive',\n",
       " 'across fire',\n",
       " 'across fire im',\n",
       " 'across floor always',\n",
       " 'across floor baby',\n",
       " 'across floor cant',\n",
       " 'across floor got',\n",
       " 'across floor hand',\n",
       " 'across floor hears',\n",
       " 'across floor like',\n",
       " 'across floor shadow',\n",
       " 'across globe',\n",
       " 'across globe dont',\n",
       " 'across globe im',\n",
       " 'across good',\n",
       " 'across good lord',\n",
       " 'across green',\n",
       " 'across green river',\n",
       " 'across heart always',\n",
       " 'across heart remain',\n",
       " 'across heart want',\n",
       " 'across heart yeah',\n",
       " 'across kid',\n",
       " 'across kid knew',\n",
       " 'across land',\n",
       " 'across land family',\n",
       " 'across land midnight',\n",
       " 'across land properly',\n",
       " 'across letter',\n",
       " 'across letter wrote',\n",
       " 'across line face',\n",
       " 'across line matter',\n",
       " 'across line traded',\n",
       " 'across lip',\n",
       " 'across lip daydream',\n",
       " 'across man',\n",
       " 'across man dont',\n",
       " 'across man rj',\n",
       " 'across mind',\n",
       " 'across mind dont',\n",
       " 'across moonlit',\n",
       " 'across moonlit mile',\n",
       " 'across moonlit room',\n",
       " 'across morning',\n",
       " 'across morning city',\n",
       " 'across nation around',\n",
       " 'across nation living',\n",
       " 'across nation scene',\n",
       " 'across nation strange',\n",
       " 'across needle',\n",
       " 'across needle soon',\n",
       " 'across new',\n",
       " 'across new divide',\n",
       " 'across nighttime',\n",
       " 'across nighttime city',\n",
       " 'across north',\n",
       " 'across north south',\n",
       " 'across often',\n",
       " 'across often watch',\n",
       " 'across page',\n",
       " 'across page suddenly',\n",
       " 'across pasture',\n",
       " 'across pasture home',\n",
       " 'across path',\n",
       " 'across path bird',\n",
       " 'across place',\n",
       " 'across place middle',\n",
       " 'across problem',\n",
       " 'across problem see',\n",
       " 'across pure',\n",
       " 'across pure sure',\n",
       " 'across railroad',\n",
       " 'across railroad track',\n",
       " 'across room ended',\n",
       " 'across room got',\n",
       " 'across room hey',\n",
       " 'across room saw',\n",
       " 'across room see',\n",
       " 'across room wearing',\n",
       " ...]"
      ]
     },
     "execution_count": 610,
     "metadata": {},
     "output_type": "execute_result"
    }
   ],
   "source": [
    "filtered_voc"
   ]
  },
  {
   "cell_type": "code",
   "execution_count": 611,
   "metadata": {},
   "outputs": [
    {
     "name": "stdout",
     "output_type": "stream",
     "text": [
      "(4831, 726889)\n"
     ]
    }
   ],
   "source": [
    "#keep only filtered indices\n",
    "X_tfidf=vectorizer.fit_transform(tokens.values)[:,filtered_indices]\n",
    "type(X_tfidf)\n",
    "print(X_tfidf.shape)"
   ]
  },
  {
   "cell_type": "code",
   "execution_count": 612,
   "metadata": {},
   "outputs": [
    {
     "data": {
      "text/plain": [
       "726889"
      ]
     },
     "execution_count": 612,
     "metadata": {},
     "output_type": "execute_result"
    }
   ],
   "source": [
    "len(filtered_indices)"
   ]
  },
  {
   "cell_type": "markdown",
   "metadata": {},
   "source": [
    "## 5. Join music features, lyrics features and tfidf features"
   ]
  },
  {
   "cell_type": "code",
   "execution_count": 613,
   "metadata": {},
   "outputs": [],
   "source": [
    "music_features=['danceability', 'key', 'loudness','energy','acousticness', 'speechiness', 'mode', 'instrumentalness', 'liveness','valence', 'tempo']\n",
    "X_music=df[music_features]\n",
    "X_music=X_music.fillna(X_music.mean())\n"
   ]
  },
  {
   "cell_type": "code",
   "execution_count": 614,
   "metadata": {},
   "outputs": [],
   "source": [
    "#list of lyrics features\n",
    "\n",
    "add_features=['word_length', 'unique_words', 'total_words','count_rhyming_words']"
   ]
  },
  {
   "cell_type": "code",
   "execution_count": 615,
   "metadata": {},
   "outputs": [
    {
     "name": "stdout",
     "output_type": "stream",
     "text": [
      "(4831, 11)\n",
      "(4831, 4)\n"
     ]
    }
   ],
   "source": [
    "#join lyrics data with musical features\n",
    "#stack sparse matrices\n",
    "from scipy.sparse import hstack\n",
    "import scipy.sparse\n",
    "\n",
    "X_m=scipy.sparse.csr_matrix(X_music.values)\n",
    "print(X_m.shape)\n",
    "\n",
    "X_l=scipy.sparse.csr_matrix(df[add_features].values)\n",
    "print(X_l.shape)\n",
    "\n",
    "\n",
    "\n"
   ]
  },
  {
   "cell_type": "code",
   "execution_count": 616,
   "metadata": {},
   "outputs": [
    {
     "data": {
      "text/plain": [
       "726904"
      ]
     },
     "execution_count": 616,
     "metadata": {},
     "output_type": "execute_result"
    }
   ],
   "source": [
    "X.shape[1]"
   ]
  },
  {
   "cell_type": "code",
   "execution_count": 617,
   "metadata": {},
   "outputs": [
    {
     "data": {
      "text/plain": [
       "array(['aaa aaa', 'aaa aaa ah', 'aaa aaa dont', ..., 'unique_words',\n",
       "       'total_words', 'count_rhyming_words'], dtype='<U50')"
      ]
     },
     "execution_count": 617,
     "metadata": {},
     "output_type": "execute_result"
    }
   ],
   "source": [
    "#array of column names\n",
    "columns=filtered_voc+music_features+add_features\n",
    "col_names = np.array(columns)\n",
    "col_names"
   ]
  },
  {
   "cell_type": "markdown",
   "metadata": {},
   "source": [
    "## 5. Build models"
   ]
  },
  {
   "cell_type": "markdown",
   "metadata": {},
   "source": [
    "### simple"
   ]
  },
  {
   "cell_type": "code",
   "execution_count": 618,
   "metadata": {},
   "outputs": [
    {
     "data": {
      "text/plain": [
       "Rank\n",
       "1    25.435178\n",
       "0    75.410959\n",
       "Name: Rank, dtype: float64"
      ]
     },
     "execution_count": 618,
     "metadata": {},
     "output_type": "execute_result"
    }
   ],
   "source": [
    "#save labels: ranking<50=1, 0 otherwise\n",
    "y=pd.cut(df.Rank,bins=[0,50,100],labels=[1,0])\n",
    "df['y']=y\n",
    "df[['y','Rank']].groupby('y').mean()\n",
    "len(y)\n",
    "df.Rank.groupby(y).mean()"
   ]
  },
  {
   "cell_type": "code",
   "execution_count": 619,
   "metadata": {},
   "outputs": [],
   "source": [
    "#make test_train_split\n",
    "from sklearn.model_selection import train_test_split\n"
   ]
  },
  {
   "cell_type": "code",
   "execution_count": 620,
   "metadata": {},
   "outputs": [],
   "source": [
    "# Initiate Logistic Classifier"
   ]
  },
  {
   "cell_type": "code",
   "execution_count": 621,
   "metadata": {},
   "outputs": [],
   "source": [
    "from sklearn.linear_model import LogisticRegression\n",
    "from sklearn.metrics import roc_auc_score\n",
    "\n",
    "def simple_logistic_classify(X_train, y_train, X_test, y_test, _C=1.0):\n",
    "    model = LogisticRegression(C=_C,  max_iter=10000).fit(X_train, y_train)\n",
    "    score_test=roc_auc_score(y_test, model.predict_proba(X_test)[:, 1])\n",
    "    #get most important features\n",
    "    col_index=range(X_train.shape[1])\n",
    "    importance =dict(zip(col_index, list(model.coef_[0])))\n",
    "    sort={k: v for k, v in sorted(importance.items(), reverse=True, key=lambda item: item[1])}\n",
    "    n_items=list(islice(sort.items(), 5))\n",
    "    coeffs=[round(i[1],5) for i in n_items]\n",
    "    indices=[i[0] for i in n_items]\n",
    "    item_names=col_names[indices]\n",
    "    item_dict=dict(zip(item_names,coeffs))\n",
    "    print('ROC-AUC Score Test', score_test)\n",
    "    print('5 most important items', item_dict)\n",
    "    return score_test, item_dict"
   ]
  },
  {
   "cell_type": "code",
   "execution_count": 622,
   "metadata": {},
   "outputs": [],
   "source": [
    "# initiate random forest classifier\n",
    "from sklearn.ensemble import RandomForestRegressor\n",
    "\n",
    "def simple_rf_classify(X_train, y_train, X_test, y_test):\n",
    "    model =  RandomForestRegressor(random_state=0, n_estimators=100).fit(X_train, y_train)\n",
    "    score_test=roc_auc_score(y_test, model.predict(X_test))\n",
    "    #get most important features\n",
    "    importance=model.feature_importances_\n",
    "    feat_dict=dict(zip(col_names,importance))\n",
    "    sort={k: v for k, v in sorted(feat_dict.items(), reverse=True, key=lambda item: item[1])}\n",
    "    n_items=list(islice(sort.items(), 5))\n",
    "    coeffs=[round(i[1],5) for i in n_items]\n",
    "    indices=[i[0] for i in n_items]\n",
    "    #item_names=col_names[indices]\n",
    "    #item_dict=dict(zip(item_names,coeffs))\n",
    "    print('ROC-AUC Score Test', score_test)\n",
    "    print('5 most important items', n_items)\n",
    "    return n_items, score_test, sort, feat_dict"
   ]
  },
  {
   "cell_type": "code",
   "execution_count": 623,
   "metadata": {},
   "outputs": [],
   "source": [
    "#simple logistic model of word vectors"
   ]
  },
  {
   "cell_type": "code",
   "execution_count": 624,
   "metadata": {},
   "outputs": [],
   "source": [
    "X_train, X_test, y_train, y_test = train_test_split(X_tfidf,y, test_size=0.33, random_state=42)"
   ]
  },
  {
   "cell_type": "code",
   "execution_count": 625,
   "metadata": {},
   "outputs": [],
   "source": [
    "import warnings\n",
    "warnings.filterwarnings('ignore')"
   ]
  },
  {
   "cell_type": "code",
   "execution_count": 626,
   "metadata": {},
   "outputs": [
    {
     "name": "stdout",
     "output_type": "stream",
     "text": [
      "ROC-AUC Score Test 0.49729427528095194\n",
      "5 most important items {'locomotion': 0.37232, 'would anything love': 0.3463, 'julie': 0.32331, 'pussycat': 0.30176, 'let dance let': 0.28939}\n"
     ]
    }
   ],
   "source": [
    "logistic=simple_logistic_classify(X_train, y_train, X_test, y_test, _C=1.0)"
   ]
  },
  {
   "cell_type": "code",
   "execution_count": 627,
   "metadata": {},
   "outputs": [
    {
     "name": "stdout",
     "output_type": "stream",
     "text": [
      "ROC-AUC Score Test 0.4858651242227234\n",
      "5 most important items [('live know', 0.0007444733395615924), ('like long lost', 0.000670177644070157), ('gone gone away', 0.0006565080397986004), ('justified', 0.0006102313282901324), ('yes doi', 0.0006101157569509192)]\n"
     ]
    }
   ],
   "source": [
    "randomforest=simple_rf_classify(X_train, y_train, X_test, y_test)"
   ]
  },
  {
   "cell_type": "code",
   "execution_count": 628,
   "metadata": {},
   "outputs": [],
   "source": [
    "best_50=list(randomforest[2].items())[:50]\n",
    "best_50_features=[i[0] for i in best_50]\n",
    "best_50_scores=[i[1] for i in best_50]"
   ]
  },
  {
   "cell_type": "code",
   "execution_count": 629,
   "metadata": {},
   "outputs": [
    {
     "data": {
      "text/plain": [
       "<BarContainer object of 50 artists>"
      ]
     },
     "execution_count": 629,
     "metadata": {},
     "output_type": "execute_result"
    },
    {
     "data": {
      "image/png": "[encoded data removed]",
      "text/plain": [
       "<Figure size 864x864 with 1 Axes>"
      ]
     },
     "metadata": {
      "needs_background": "light"
     },
     "output_type": "display_data"
    }
   ],
   "source": [
    "plt.figure(figsize=(12,12))\n",
    "plt.barh(best_50_features, best_50_scores)"
   ]
  },
  {
   "cell_type": "code",
   "execution_count": 630,
   "metadata": {},
   "outputs": [
    {
     "data": {
      "text/plain": [
       "(4831, 1000)"
      ]
     },
     "execution_count": 630,
     "metadata": {},
     "output_type": "execute_result"
    }
   ],
   "source": [
    "#Select top 1000 features\n",
    "top_1000=list(randomforest[2].items())[:1000]\n",
    "top_1000_feat=[i[0] for i in top_1000]\n",
    "#select top200 feat from X_tfidf\n",
    "#get indices of top1000 features from filtered_voc\n",
    "top_1000_indices = [i for i, value in enumerate(filtered_voc) if value in top_1000_feat]\n",
    "X_1000=X_tfidf[:,top_1000_indices]\n",
    "X_1000.shape"
   ]
  },
  {
   "cell_type": "code",
   "execution_count": 631,
   "metadata": {},
   "outputs": [
    {
     "name": "stdout",
     "output_type": "stream",
     "text": [
      "(4831, 1004)\n",
      "(4831, 1011)\n"
     ]
    }
   ],
   "source": [
    "#combine with additional features\n",
    "X_text=hstack((X_1000, X_l))\n",
    "print(X_text.shape)\n",
    "X_all=hstack((X_1000, X_m))\n",
    "print(X_all.shape)"
   ]
  },
  {
   "cell_type": "markdown",
   "metadata": {},
   "source": [
    "### Hyperparameter tuning"
   ]
  },
  {
   "cell_type": "markdown",
   "metadata": {},
   "source": [
    "#### Logistic regression"
   ]
  },
  {
   "cell_type": "code",
   "execution_count": 632,
   "metadata": {},
   "outputs": [],
   "source": [
    "from sklearn.model_selection import GridSearchCV\n",
    "from sklearn.metrics import accuracy_score\n",
    "from sklearn.metrics import roc_curve"
   ]
  },
  {
   "cell_type": "code",
   "execution_count": 633,
   "metadata": {},
   "outputs": [],
   "source": [
    "#define parameter grid for logistic cv\n",
    "\n",
    "C = [0.00001,0.0001, 0.001, 0.01, 0.1,1,10,100,1000, 10000]\n",
    "penalty = ['l2']\n",
    "\n",
    "parameters = dict(C=C, penalty=penalty)"
   ]
  },
  {
   "cell_type": "code",
   "execution_count": 643,
   "metadata": {},
   "outputs": [],
   "source": [
    "def logistic_cv(X_train, X_test, y_train, y_test):\n",
    "    logistic=LogisticRegression(max_iter=500)\n",
    "    gsl=GridSearchCV(logistic, parameters, cv=3, n_jobs=-1, scoring=\"roc_auc\")\n",
    "    gsl.fit(X_train, y_train)\n",
    "    return gsl"
   ]
  },
  {
   "cell_type": "code",
   "execution_count": 644,
   "metadata": {},
   "outputs": [],
   "source": [
    "#fit tuned model\n",
    "def fit_tuned_lr_model(model):    \n",
    "    logisticCV=LogisticRegression(C=model.best_params_['C'], penalty=model.best_params_['penalty'], max_iter=500)\n",
    "    logisticCV.fit(X_train, y_train)\n",
    "\n",
    "    #return predicted probabilities\n",
    "    lr_probs = logisticCV.predict_proba(X_test)\n",
    "\n",
    "    # keep probabilities for the positive outcome only\n",
    "    lr_probs = lr_probs[:, 1]\n",
    "    roc_auc=roc_auc_score(y_test, lr_probs)\n",
    "    print(\"tuned hyperparameters :(best parameters) \", model.best_params_)\n",
    "    print(\"ROC AUC :\", model.best_score_)\n",
    "    print(\"Fitted tuned logit  model \", roc_auc)\n",
    "    "
   ]
  },
  {
   "cell_type": "code",
   "execution_count": 645,
   "metadata": {},
   "outputs": [],
   "source": [
    "#Logistic Classifier on tfidf features only \n",
    "X_train, X_test, y_train, y_test = train_test_split(X_tfidf,y, test_size=0.33, random_state=42)\n",
    "lr=logistic_cv(X_train, X_test, y_train, y_test)"
   ]
  },
  {
   "cell_type": "code",
   "execution_count": 646,
   "metadata": {},
   "outputs": [],
   "source": [
    "# save the tuned model to disk\n",
    "filename = 'tuned_logistic_only_text_1000.sav'\n",
    "pickle.dump(lr, open(filename, 'wb'))"
   ]
  },
  {
   "cell_type": "code",
   "execution_count": 647,
   "metadata": {},
   "outputs": [
    {
     "name": "stdout",
     "output_type": "stream",
     "text": [
      "tuned hyperparameters :(best parameters)  {'C': 0.1, 'penalty': 'l2'}\n",
      "ROC AUC : 0.5077370032517401\n",
      "Fitted tuned logit  model  0.4969828928372602\n"
     ]
    }
   ],
   "source": [
    "#fit tuned model\n",
    "lr_fit_tfidf=fit_tuned_lr_model(lr)\n"
   ]
  },
  {
   "cell_type": "code",
   "execution_count": 648,
   "metadata": {},
   "outputs": [],
   "source": [
    "# save the tuned model to disk\n",
    "filename = 'tuned_logistic_only_text.sav'\n",
    "pickle.dump(lr, open(filename, 'wb'))"
   ]
  },
  {
   "cell_type": "code",
   "execution_count": 649,
   "metadata": {},
   "outputs": [],
   "source": [
    "#Logistic Classifier on tfidf top 1000 features only \n",
    "X_train, X_test, y_train, y_test = train_test_split(X_1000,y, test_size=0.33, random_state=42)\n",
    "lr=logistic_cv(X_train, X_test, y_train, y_test)"
   ]
  },
  {
   "cell_type": "code",
   "execution_count": 650,
   "metadata": {},
   "outputs": [
    {
     "name": "stdout",
     "output_type": "stream",
     "text": [
      "tuned hyperparameters :(best parameters)  {'C': 100, 'penalty': 'l2'}\n",
      "ROC AUC : 0.8588984544181519\n",
      "Fitted tuned logit  model  0.4885252424222407\n"
     ]
    }
   ],
   "source": [
    "#fit tuned model\n",
    "lr_fit_1000=fit_tuned_lr_model(lr)"
   ]
  },
  {
   "cell_type": "code",
   "execution_count": 651,
   "metadata": {},
   "outputs": [],
   "source": [
    "#Logistic Classifier on tfidf top 1000 plus engineered text features  \n",
    "X_train, X_test, y_train, y_test = train_test_split(X_text,y, test_size=0.33, random_state=42)\n",
    "lr=logistic_cv(X_train, X_test, y_train, y_test)"
   ]
  },
  {
   "cell_type": "code",
   "execution_count": 652,
   "metadata": {},
   "outputs": [],
   "source": [
    "# save the tuned model to disk\n",
    "filename = 'tuned_logistic_all.sav'\n",
    "pickle.dump(lr, open(filename, 'wb'))"
   ]
  },
  {
   "cell_type": "code",
   "execution_count": 653,
   "metadata": {},
   "outputs": [
    {
     "name": "stdout",
     "output_type": "stream",
     "text": [
      "tuned hyperparameters :(best parameters)  {'C': 10000, 'penalty': 'l2'}\n",
      "ROC AUC : 0.7380384492318273\n",
      "Fitted tuned logit  model  0.5188630137417162\n"
     ]
    }
   ],
   "source": [
    "#fit tuned model\n",
    "lr_fit_text=fit_tuned_lr_model(lr)"
   ]
  },
  {
   "cell_type": "code",
   "execution_count": 654,
   "metadata": {},
   "outputs": [],
   "source": [
    "#Logistic Classifier on tfidf top 1000 plus engineered text features plus music features\n",
    "X_train, X_test, y_train, y_test = train_test_split(X_all,y, test_size=0.33, random_state=42)\n",
    "lr=logistic_cv(X_train, X_test, y_train, y_test)"
   ]
  },
  {
   "cell_type": "code",
   "execution_count": 655,
   "metadata": {},
   "outputs": [
    {
     "name": "stdout",
     "output_type": "stream",
     "text": [
      "tuned hyperparameters :(best parameters)  {'C': 10000, 'penalty': 'l2'}\n",
      "ROC AUC : 0.6002595901312557\n",
      "Fitted tuned logit  model  0.5398388674485826\n"
     ]
    }
   ],
   "source": [
    "#fit tuned model\n",
    "lr_fit_all=fit_tuned_lr_model(lr)"
   ]
  },
  {
   "cell_type": "markdown",
   "metadata": {},
   "source": [
    "#### Random forest"
   ]
  },
  {
   "cell_type": "code",
   "execution_count": 656,
   "metadata": {},
   "outputs": [],
   "source": [
    "#random forest model\n",
    "#define parameter grid for randomized search with forest model\n",
    "\n",
    "from sklearn.model_selection import RandomizedSearchCV\n",
    "\n",
    "#n_estimators\n",
    "n_estimators = [250,300, 350]\n",
    "# Number of features to consider at every split\n",
    "max_features = ['auto', 'sqrt']\n",
    "# Maximum number of levels in tree\n",
    "max_depth = [int(x) for x in np.linspace(10, 110, num = 11)]\n",
    "max_depth.append(None)\n",
    "# Minimum number of samples required to split a node\n",
    "min_samples_split = [2, 5, 10]\n",
    "# Minimum number of samples required at each leaf node\n",
    "min_samples_leaf = [1, 2, 4]\n",
    "# Method of selecting samples for training each tree\n",
    "bootstrap = [True, False]\n",
    "\n",
    "\n",
    "# Create the random grid\n",
    "random_grid = {'max_features': max_features,\n",
    "               'max_depth': max_depth,\n",
    "               'min_samples_split': min_samples_split,\n",
    "               'min_samples_leaf': min_samples_leaf,\n",
    "               'bootstrap': bootstrap,\n",
    "               'n_estimators':n_estimators}\n"
   ]
  },
  {
   "cell_type": "code",
   "execution_count": 657,
   "metadata": {},
   "outputs": [],
   "source": [
    "def rf_rs(X_train, X_test, y_train, y_test):\n",
    "\n",
    "    #Instantiate the classifier\n",
    "    rf=RandomForestClassifier(n_jobs=-1)\n",
    "    rs=RandomizedSearchCV(rf,random_grid, n_iter = 100, cv = 3, verbose=2, random_state=42, n_jobs = -1, scoring='roc_auc')\n",
    "    rs.fit(X_train, y_train)\n",
    "    return rs"
   ]
  },
  {
   "cell_type": "code",
   "execution_count": 662,
   "metadata": {},
   "outputs": [],
   "source": [
    "# fit tuned model\n",
    "def fit_tuned_rf_model(model):\n",
    "    print(\"tuned hyperparameters :(best parameters) \", model.best_params_)\n",
    "    print(\"ROC AUC :\", model.best_score_)\n",
    "\n",
    "    modelCV=RandomForestClassifier(max_features=model.best_params_['max_features'], max_depth=model.best_params_['max_depth'], min_samples_split=model.best_params_['min_samples_split'], min_samples_leaf=model.best_params_['min_samples_leaf'], bootstrap=model.best_params_['bootstrap'],n_estimators=model.best_params_['n_estimators'])\n",
    "    modelCV.fit(X_train, y_train)\n",
    "\n",
    "    #return predicted probabilities\n",
    "    probs = modelCV.predict_proba(X_test)\n",
    "        # keep probabilities for the positive outcome only\n",
    "    probs = probs[:, 1]\n",
    "    roc_auc=roc_auc_score(y_test, probs)\n",
    "\n",
    "    print(\"Fitted tuned random forest model \", roc_auc)"
   ]
  },
  {
   "cell_type": "code",
   "execution_count": 663,
   "metadata": {},
   "outputs": [
    {
     "name": "stdout",
     "output_type": "stream",
     "text": [
      "Fitting 3 folds for each of 100 candidates, totalling 300 fits\n"
     ]
    },
    {
     "name": "stderr",
     "output_type": "stream",
     "text": [
      "[Parallel(n_jobs=-1)]: Using backend LokyBackend with 4 concurrent workers.\n",
      "[Parallel(n_jobs=-1)]: Done  33 tasks      | elapsed:   27.7s\n",
      "[Parallel(n_jobs=-1)]: Done 154 tasks      | elapsed:  1.9min\n",
      "[Parallel(n_jobs=-1)]: Done 300 out of 300 | elapsed:  3.9min finished\n"
     ]
    }
   ],
   "source": [
    "#Random forest classifier on top 1000 features\n",
    "X_train, X_test, y_train, y_test = train_test_split(X_1000,y, test_size=0.33, random_state=42)\n",
    "rf=rf_rs(X_train, X_test, y_train, y_test)"
   ]
  },
  {
   "cell_type": "code",
   "execution_count": 664,
   "metadata": {},
   "outputs": [],
   "source": [
    "# save the tuned model to disk\n",
    "filename = 'tuned_rf_only_text_1000.sav'\n",
    "pickle.dump(rf, open(filename, 'wb'))"
   ]
  },
  {
   "cell_type": "code",
   "execution_count": 665,
   "metadata": {},
   "outputs": [
    {
     "name": "stdout",
     "output_type": "stream",
     "text": [
      "tuned hyperparameters :(best parameters)  {'n_estimators': 300, 'min_samples_split': 5, 'min_samples_leaf': 1, 'max_features': 'auto', 'max_depth': None, 'bootstrap': True}\n",
      "ROC AUC : 0.8119819059088584\n",
      "Fitted tuned random forest model  0.48847255902899006\n"
     ]
    }
   ],
   "source": [
    "#fit tuned model\n",
    "rf_fit_1000=fit_tuned_rf_model(rf)"
   ]
  },
  {
   "cell_type": "code",
   "execution_count": 666,
   "metadata": {},
   "outputs": [
    {
     "name": "stdout",
     "output_type": "stream",
     "text": [
      "Fitting 3 folds for each of 100 candidates, totalling 300 fits\n"
     ]
    },
    {
     "name": "stderr",
     "output_type": "stream",
     "text": [
      "[Parallel(n_jobs=-1)]: Using backend LokyBackend with 4 concurrent workers.\n",
      "[Parallel(n_jobs=-1)]: Done  33 tasks      | elapsed:   25.6s\n",
      "[Parallel(n_jobs=-1)]: Done 154 tasks      | elapsed:  2.3min\n",
      "[Parallel(n_jobs=-1)]: Done 300 out of 300 | elapsed:  5.1min finished\n"
     ]
    }
   ],
   "source": [
    "#Random forest classifier on tfidf and text features\n",
    "X_train, X_test, y_train, y_test = train_test_split(X_text,y, test_size=0.33, random_state=42)\n",
    "rf=rf_rs(X_train, X_test, y_train, y_test)"
   ]
  },
  {
   "cell_type": "code",
   "execution_count": 667,
   "metadata": {},
   "outputs": [],
   "source": [
    "# save the tuned model to disk\n",
    "filename = 'tuned_rf_only_text.sav'\n",
    "pickle.dump(rf, open(filename, 'wb'))"
   ]
  },
  {
   "cell_type": "code",
   "execution_count": 668,
   "metadata": {},
   "outputs": [
    {
     "name": "stdout",
     "output_type": "stream",
     "text": [
      "tuned hyperparameters :(best parameters)  {'n_estimators': 300, 'min_samples_split': 2, 'min_samples_leaf': 1, 'max_features': 'auto', 'max_depth': 90, 'bootstrap': True}\n",
      "ROC AUC : 0.612601240231832\n",
      "Fitted tuned random forest model  0.5095294036239884\n"
     ]
    }
   ],
   "source": [
    "#fit tuned model\n",
    "rf_fit_text=fit_tuned_rf_model(rf)"
   ]
  },
  {
   "cell_type": "code",
   "execution_count": null,
   "metadata": {},
   "outputs": [
    {
     "name": "stdout",
     "output_type": "stream",
     "text": [
      "Fitting 3 folds for each of 100 candidates, totalling 300 fits\n"
     ]
    },
    {
     "name": "stderr",
     "output_type": "stream",
     "text": [
      "[Parallel(n_jobs=-1)]: Using backend LokyBackend with 4 concurrent workers.\n",
      "[Parallel(n_jobs=-1)]: Done  33 tasks      | elapsed:   37.1s\n",
      "[Parallel(n_jobs=-1)]: Done 154 tasks      | elapsed:  3.1min\n"
     ]
    }
   ],
   "source": [
    "#Random forest classifier on all 1000 tfidf plus text and musical features\n",
    "X_train, X_test, y_train, y_test = train_test_split(X_all,y, test_size=0.33, random_state=42)\n",
    "rf=rf_rs(X_train, X_test, y_train, y_test)"
   ]
  },
  {
   "cell_type": "code",
   "execution_count": null,
   "metadata": {},
   "outputs": [],
   "source": [
    "# save the tuned model to disk\n",
    "filename = 'tuned_rf_all.sav'\n",
    "pickle.dump(rf, open(filename, 'wb'))"
   ]
  },
  {
   "cell_type": "code",
   "execution_count": null,
   "metadata": {},
   "outputs": [],
   "source": [
    "#fit tuned model\n",
    "rf_fit_all=fit_tuned_rf_model(rf)"
   ]
  },
  {
   "cell_type": "code",
   "execution_count": null,
   "metadata": {},
   "outputs": [],
   "source": [
    "#drawing roc curve and auc\n",
    "\n",
    "\n",
    "from matplotlib import pyplot\n",
    "\n",
    "# generate a no skill prediction (majority class)\n",
    "ns_probs = [0 for _ in range(len(y_test))]\n",
    "\n",
    "## plot the roc curve: start with no skill prediction\n",
    "fig, ax = plt.subplots(figsize=(15, 10))\n",
    "ns_auc = roc_auc_score(y_test, ns_probs) #no skill\n",
    "ns_fpr, ns_tpr, _ = roc_curve(y_test, ns_probs)\n",
    "plt.plot(ns_fpr, ns_tpr, linestyle='--', label='No Skill')\n",
    "\n",
    "\n",
    "#draw roc curves for tuned models\n",
    "def draw_roc_curve(model, label):\n",
    "\n",
    "    #get predicted probabilities\n",
    "    probs=model.predict_proba(X_test)[:,1]\n",
    "    # calculate roc auc scores\n",
    "  \n",
    "    auc = roc_auc_score(y_test, probs)\n",
    "    # calculate roc curves\n",
    "    # get tpr, fpr\n",
    "    fpr, tpr, _ = roc_curve(y_test, probs)\n",
    "    print('Model=%s: ROC AUC=%.3f' % (label, auc)) \n",
    "    plt.plot(fpr, tpr, marker='.', label=label)\n",
    "\n",
    "draw_roc_curve(logisticCV, 'Logistic regression, tuned')\n",
    "draw_roc_curve(rfCV, 'Random forest, tuned')\n",
    "\n",
    "# axis labels\n",
    "plt.xlabel('False Positive Rate')\n",
    "plt.ylabel('True Positive Rate')\n",
    "# show the legend\n",
    "plt.legend()\n",
    "# show the plot\n",
    "plt.show()\n"
   ]
  },
  {
   "cell_type": "code",
   "execution_count": null,
   "metadata": {},
   "outputs": [],
   "source": []
  },
  {
   "cell_type": "code",
   "execution_count": null,
   "metadata": {},
   "outputs": [],
   "source": []
  }
 ],
 "metadata": {
  "kernelspec": {
   "display_name": "Python 3",
   "language": "python",
   "name": "python3"
  },
  "language_info": {
   "codemirror_mode": {
    "name": "ipython",
    "version": 3
   },
   "file_extension": ".py",
   "mimetype": "text/x-python",
   "name": "python",
   "nbconvert_exporter": "python",
   "pygments_lexer": "ipython3",
   "version": "3.8.5"
  }
 },
 "nbformat": 4,
 "nbformat_minor": 4
}
