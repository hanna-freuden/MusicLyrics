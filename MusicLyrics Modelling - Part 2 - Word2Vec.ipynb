{
 "cells": [
  {
   "cell_type": "markdown",
   "metadata": {},
   "source": [
    "# Get word embeddings using Word2Vec"
   ]
  },
  {
   "cell_type": "markdown",
   "metadata": {},
   "source": [
    "Based on https://towardsdatascience.com/a-beginners-guide-to-word-embedding-with-gensim-word2vec-model-5970fa56cc92#702d"
   ]
  },
  {
   "cell_type": "code",
   "execution_count": 1,
   "metadata": {},
   "outputs": [],
   "source": [
    "import pandas as pd\n",
    "import numpy as np"
   ]
  },
  {
   "cell_type": "code",
   "execution_count": 2,
   "metadata": {},
   "outputs": [],
   "source": [
    "#pip install --upgrade gensim\n",
    "from gensim.models import Word2Vec"
   ]
  },
  {
   "cell_type": "code",
   "execution_count": 3,
   "metadata": {},
   "outputs": [],
   "source": [
    "df = pd.DataFrame(pd.read_pickle('df_tokenized'))"
   ]
  },
  {
   "cell_type": "code",
   "execution_count": 4,
   "metadata": {},
   "outputs": [],
   "source": [
    "#preprocessing - gensim requires list of list representation\n",
    "df.head()\n",
    "token_list=[]\n",
    "for r in df['tokens']:\n",
    "    token_list.append(r)\n",
    "\n",
    "    "
   ]
  },
  {
   "cell_type": "code",
   "execution_count": 5,
   "metadata": {},
   "outputs": [],
   "source": [
    "#train gensim word2vec model\n",
    "model = Word2Vec(token_list, min_count=1,workers=3, window =3, sg = 1)"
   ]
  },
  {
   "cell_type": "code",
   "execution_count": 34,
   "metadata": {},
   "outputs": [
    {
     "name": "stdout",
     "output_type": "stream",
     "text": [
      "size of word vector:  100\n"
     ]
    }
   ],
   "source": [
    "print(\"size of word vector: \", len(model.wv['love']))"
   ]
  },
  {
   "cell_type": "code",
   "execution_count": 6,
   "metadata": {},
   "outputs": [
    {
     "data": {
      "text/plain": [
       "0.42362207"
      ]
     },
     "execution_count": 6,
     "metadata": {},
     "output_type": "execute_result"
    }
   ],
   "source": [
    "model.wv.similarity('love', 'like')"
   ]
  },
  {
   "cell_type": "code",
   "execution_count": 7,
   "metadata": {},
   "outputs": [
    {
     "data": {
      "text/plain": [
       "0.47666293"
      ]
     },
     "execution_count": 7,
     "metadata": {},
     "output_type": "execute_result"
    }
   ],
   "source": [
    "model.wv.similarity('love', 'hate')"
   ]
  },
  {
   "cell_type": "code",
   "execution_count": 8,
   "metadata": {},
   "outputs": [
    {
     "data": {
      "text/plain": [
       "[('satisfy', 0.7531440258026123),\n",
       " ('roni', 0.7423168420791626),\n",
       " ('protection', 0.7260222434997559),\n",
       " ('forsake', 0.7195085287094116),\n",
       " ('everlasting', 0.7191615104675293),\n",
       " ('fair', 0.7167520523071289),\n",
       " ('behave', 0.7162327766418457),\n",
       " ('hungover', 0.7139302492141724),\n",
       " ('faithfully', 0.7131261229515076),\n",
       " ('deeply', 0.7120652794837952)]"
      ]
     },
     "execution_count": 8,
     "metadata": {},
     "output_type": "execute_result"
    }
   ],
   "source": [
    "model.wv.most_similar('love')"
   ]
  },
  {
   "cell_type": "code",
   "execution_count": 9,
   "metadata": {},
   "outputs": [
    {
     "data": {
      "text/plain": [
       "16118"
      ]
     },
     "execution_count": 9,
     "metadata": {},
     "output_type": "execute_result"
    }
   ],
   "source": [
    "#set of all tokens\n",
    "tokens=[]\n",
    "for r in df.tokens:\n",
    "    for token in r:\n",
    "        tokens.append(token)\n",
    "set_tokens=set(tokens)\n",
    "len(set_tokens)"
   ]
  },
  {
   "cell_type": "code",
   "execution_count": 19,
   "metadata": {},
   "outputs": [],
   "source": [
    "#cosine similarity\n",
    "from numpy.linalg import norm\n",
    "def cosine_distance (model, word,target_list , num) :\n",
    "    cosine_dict ={}\n",
    "    word_list = []\n",
    "    a = model.wv[word]\n",
    "    for item in target_list :\n",
    "        if item != word :\n",
    "            b = model.wv[item]\n",
    "            cos_sim = np.dot(a, b)/(norm(a)*norm(b))\n",
    "            cosine_dict[item] = cos_sim\n",
    "    dist_sort=sorted(cosine_dict.items(), key=lambda dist: dist[1],reverse = True) ## in Descending order \n",
    "    for item in dist_sort:\n",
    "        word_list.append((item[0], item[1]))\n",
    "    return word_list[0:num]"
   ]
  },
  {
   "cell_type": "code",
   "execution_count": 20,
   "metadata": {},
   "outputs": [
    {
     "data": {
      "text/plain": [
       "[('satisfy', 0.753144),\n",
       " ('roni', 0.74231684),\n",
       " ('protection', 0.72602224),\n",
       " ('forsake', 0.7195085),\n",
       " ('everlasting', 0.71916157)]"
      ]
     },
     "execution_count": 20,
     "metadata": {},
     "output_type": "execute_result"
    }
   ],
   "source": [
    "cosine_distance(model,'love',set_tokens,5)"
   ]
  },
  {
   "cell_type": "markdown",
   "metadata": {},
   "source": [
    "## embedding matrix"
   ]
  },
  {
   "cell_type": "markdown",
   "metadata": {},
   "source": [
    "number of columns equal to the number of the embedding dimension (here:100)\n",
    "row count: number of unique words"
   ]
  },
  {
   "cell_type": "code",
   "execution_count": 40,
   "metadata": {},
   "outputs": [],
   "source": [
    "#use word vectors as features\n",
    "def get_word_vectors(model, set_tokens):\n",
    "    wv=[]\n",
    "    for token in set_tokens:\n",
    "        wv.append(model.wv[token])\n",
    "\n",
    "    wv=pd.DataFrame(wv)\n",
    "    return wv\n",
    "        \n",
    "df_wv=get_word_vectors(model,set_tokens)\n"
   ]
  },
  {
   "cell_type": "code",
   "execution_count": 41,
   "metadata": {},
   "outputs": [
    {
     "data": {
      "text/html": [
       "<div>\n",
       "<style scoped>\n",
       "    .dataframe tbody tr th:only-of-type {\n",
       "        vertical-align: middle;\n",
       "    }\n",
       "\n",
       "    .dataframe tbody tr th {\n",
       "        vertical-align: top;\n",
       "    }\n",
       "\n",
       "    .dataframe thead th {\n",
       "        text-align: right;\n",
       "    }\n",
       "</style>\n",
       "<table border=\"1\" class=\"dataframe\">\n",
       "  <thead>\n",
       "    <tr style=\"text-align: right;\">\n",
       "      <th></th>\n",
       "      <th>0</th>\n",
       "      <th>1</th>\n",
       "      <th>2</th>\n",
       "      <th>3</th>\n",
       "      <th>4</th>\n",
       "      <th>5</th>\n",
       "      <th>6</th>\n",
       "      <th>7</th>\n",
       "      <th>8</th>\n",
       "      <th>9</th>\n",
       "      <th>...</th>\n",
       "      <th>90</th>\n",
       "      <th>91</th>\n",
       "      <th>92</th>\n",
       "      <th>93</th>\n",
       "      <th>94</th>\n",
       "      <th>95</th>\n",
       "      <th>96</th>\n",
       "      <th>97</th>\n",
       "      <th>98</th>\n",
       "      <th>99</th>\n",
       "    </tr>\n",
       "  </thead>\n",
       "  <tbody>\n",
       "    <tr>\n",
       "      <th>0</th>\n",
       "      <td>-0.245191</td>\n",
       "      <td>-0.150248</td>\n",
       "      <td>-0.040848</td>\n",
       "      <td>0.264840</td>\n",
       "      <td>0.185056</td>\n",
       "      <td>-0.032839</td>\n",
       "      <td>0.088284</td>\n",
       "      <td>0.186258</td>\n",
       "      <td>-0.112959</td>\n",
       "      <td>-0.218214</td>\n",
       "      <td>...</td>\n",
       "      <td>-0.156383</td>\n",
       "      <td>-0.162462</td>\n",
       "      <td>-0.189303</td>\n",
       "      <td>-0.106040</td>\n",
       "      <td>0.247375</td>\n",
       "      <td>0.066573</td>\n",
       "      <td>-0.156592</td>\n",
       "      <td>0.067085</td>\n",
       "      <td>0.068973</td>\n",
       "      <td>-0.026552</td>\n",
       "    </tr>\n",
       "    <tr>\n",
       "      <th>1</th>\n",
       "      <td>-0.134749</td>\n",
       "      <td>0.061137</td>\n",
       "      <td>-0.057324</td>\n",
       "      <td>0.029002</td>\n",
       "      <td>-0.138655</td>\n",
       "      <td>0.137719</td>\n",
       "      <td>-0.252304</td>\n",
       "      <td>0.055107</td>\n",
       "      <td>-0.018259</td>\n",
       "      <td>0.030587</td>\n",
       "      <td>...</td>\n",
       "      <td>-0.012598</td>\n",
       "      <td>0.115326</td>\n",
       "      <td>-0.074627</td>\n",
       "      <td>0.184383</td>\n",
       "      <td>0.442465</td>\n",
       "      <td>-0.085729</td>\n",
       "      <td>-0.077279</td>\n",
       "      <td>-0.359278</td>\n",
       "      <td>0.024115</td>\n",
       "      <td>-0.118048</td>\n",
       "    </tr>\n",
       "    <tr>\n",
       "      <th>2</th>\n",
       "      <td>0.175242</td>\n",
       "      <td>0.095735</td>\n",
       "      <td>-0.287328</td>\n",
       "      <td>0.323305</td>\n",
       "      <td>0.106878</td>\n",
       "      <td>0.079734</td>\n",
       "      <td>0.023414</td>\n",
       "      <td>-0.186267</td>\n",
       "      <td>-0.312048</td>\n",
       "      <td>-0.405483</td>\n",
       "      <td>...</td>\n",
       "      <td>-0.173055</td>\n",
       "      <td>0.097655</td>\n",
       "      <td>-0.478746</td>\n",
       "      <td>-0.295390</td>\n",
       "      <td>0.308281</td>\n",
       "      <td>0.223407</td>\n",
       "      <td>-0.090611</td>\n",
       "      <td>-0.339993</td>\n",
       "      <td>-0.279340</td>\n",
       "      <td>0.122755</td>\n",
       "    </tr>\n",
       "    <tr>\n",
       "      <th>3</th>\n",
       "      <td>-0.047591</td>\n",
       "      <td>-0.046050</td>\n",
       "      <td>-0.076501</td>\n",
       "      <td>0.083618</td>\n",
       "      <td>-0.035333</td>\n",
       "      <td>0.000125</td>\n",
       "      <td>-0.004801</td>\n",
       "      <td>0.078830</td>\n",
       "      <td>-0.117244</td>\n",
       "      <td>-0.099913</td>\n",
       "      <td>...</td>\n",
       "      <td>-0.064631</td>\n",
       "      <td>-0.011042</td>\n",
       "      <td>-0.041878</td>\n",
       "      <td>-0.008243</td>\n",
       "      <td>0.078960</td>\n",
       "      <td>0.155752</td>\n",
       "      <td>-0.075465</td>\n",
       "      <td>-0.063155</td>\n",
       "      <td>0.018741</td>\n",
       "      <td>-0.034992</td>\n",
       "    </tr>\n",
       "    <tr>\n",
       "      <th>4</th>\n",
       "      <td>-0.046839</td>\n",
       "      <td>-0.023255</td>\n",
       "      <td>-0.054347</td>\n",
       "      <td>0.060014</td>\n",
       "      <td>-0.010520</td>\n",
       "      <td>-0.001507</td>\n",
       "      <td>-0.033300</td>\n",
       "      <td>0.039194</td>\n",
       "      <td>-0.021815</td>\n",
       "      <td>-0.049530</td>\n",
       "      <td>...</td>\n",
       "      <td>-0.005347</td>\n",
       "      <td>0.003771</td>\n",
       "      <td>-0.015885</td>\n",
       "      <td>0.022721</td>\n",
       "      <td>0.076593</td>\n",
       "      <td>0.099197</td>\n",
       "      <td>-0.012806</td>\n",
       "      <td>-0.025491</td>\n",
       "      <td>0.023265</td>\n",
       "      <td>-0.010859</td>\n",
       "    </tr>\n",
       "    <tr>\n",
       "      <th>...</th>\n",
       "      <td>...</td>\n",
       "      <td>...</td>\n",
       "      <td>...</td>\n",
       "      <td>...</td>\n",
       "      <td>...</td>\n",
       "      <td>...</td>\n",
       "      <td>...</td>\n",
       "      <td>...</td>\n",
       "      <td>...</td>\n",
       "      <td>...</td>\n",
       "      <td>...</td>\n",
       "      <td>...</td>\n",
       "      <td>...</td>\n",
       "      <td>...</td>\n",
       "      <td>...</td>\n",
       "      <td>...</td>\n",
       "      <td>...</td>\n",
       "      <td>...</td>\n",
       "      <td>...</td>\n",
       "      <td>...</td>\n",
       "      <td>...</td>\n",
       "    </tr>\n",
       "    <tr>\n",
       "      <th>16113</th>\n",
       "      <td>-0.062630</td>\n",
       "      <td>-0.081547</td>\n",
       "      <td>-0.033649</td>\n",
       "      <td>0.155071</td>\n",
       "      <td>0.021743</td>\n",
       "      <td>-0.083295</td>\n",
       "      <td>-0.081437</td>\n",
       "      <td>0.132574</td>\n",
       "      <td>0.011042</td>\n",
       "      <td>-0.151667</td>\n",
       "      <td>...</td>\n",
       "      <td>-0.035177</td>\n",
       "      <td>-0.044614</td>\n",
       "      <td>0.023280</td>\n",
       "      <td>0.074521</td>\n",
       "      <td>0.050393</td>\n",
       "      <td>0.189543</td>\n",
       "      <td>-0.099194</td>\n",
       "      <td>-0.057143</td>\n",
       "      <td>0.140634</td>\n",
       "      <td>-0.025571</td>\n",
       "    </tr>\n",
       "    <tr>\n",
       "      <th>16114</th>\n",
       "      <td>-0.020387</td>\n",
       "      <td>-0.044659</td>\n",
       "      <td>-0.035326</td>\n",
       "      <td>0.057878</td>\n",
       "      <td>-0.006151</td>\n",
       "      <td>0.005317</td>\n",
       "      <td>0.012104</td>\n",
       "      <td>0.046041</td>\n",
       "      <td>-0.010458</td>\n",
       "      <td>-0.047270</td>\n",
       "      <td>...</td>\n",
       "      <td>-0.016952</td>\n",
       "      <td>0.000870</td>\n",
       "      <td>-0.006622</td>\n",
       "      <td>0.033283</td>\n",
       "      <td>0.024029</td>\n",
       "      <td>0.077976</td>\n",
       "      <td>-0.044881</td>\n",
       "      <td>-0.024860</td>\n",
       "      <td>0.013554</td>\n",
       "      <td>-0.013609</td>\n",
       "    </tr>\n",
       "    <tr>\n",
       "      <th>16115</th>\n",
       "      <td>0.153072</td>\n",
       "      <td>0.058740</td>\n",
       "      <td>-0.040204</td>\n",
       "      <td>0.245315</td>\n",
       "      <td>-0.565223</td>\n",
       "      <td>0.377168</td>\n",
       "      <td>-0.033026</td>\n",
       "      <td>0.203370</td>\n",
       "      <td>-0.612176</td>\n",
       "      <td>0.062836</td>\n",
       "      <td>...</td>\n",
       "      <td>-0.163426</td>\n",
       "      <td>-0.113045</td>\n",
       "      <td>-0.347899</td>\n",
       "      <td>-0.168626</td>\n",
       "      <td>0.221976</td>\n",
       "      <td>0.380825</td>\n",
       "      <td>-0.162185</td>\n",
       "      <td>-0.684901</td>\n",
       "      <td>-0.072673</td>\n",
       "      <td>-0.379267</td>\n",
       "    </tr>\n",
       "    <tr>\n",
       "      <th>16116</th>\n",
       "      <td>-0.032165</td>\n",
       "      <td>-0.038052</td>\n",
       "      <td>0.002486</td>\n",
       "      <td>0.068977</td>\n",
       "      <td>0.000602</td>\n",
       "      <td>-0.030664</td>\n",
       "      <td>0.017802</td>\n",
       "      <td>0.027468</td>\n",
       "      <td>0.008319</td>\n",
       "      <td>-0.065953</td>\n",
       "      <td>...</td>\n",
       "      <td>-0.021304</td>\n",
       "      <td>-0.000508</td>\n",
       "      <td>-0.006091</td>\n",
       "      <td>0.032075</td>\n",
       "      <td>0.055027</td>\n",
       "      <td>0.090529</td>\n",
       "      <td>-0.053411</td>\n",
       "      <td>-0.020530</td>\n",
       "      <td>0.042446</td>\n",
       "      <td>0.008992</td>\n",
       "    </tr>\n",
       "    <tr>\n",
       "      <th>16117</th>\n",
       "      <td>-0.113431</td>\n",
       "      <td>0.100567</td>\n",
       "      <td>-0.232270</td>\n",
       "      <td>0.044944</td>\n",
       "      <td>-0.075141</td>\n",
       "      <td>0.079462</td>\n",
       "      <td>-0.166464</td>\n",
       "      <td>0.201229</td>\n",
       "      <td>-0.206216</td>\n",
       "      <td>-0.071285</td>\n",
       "      <td>...</td>\n",
       "      <td>0.005734</td>\n",
       "      <td>-0.039275</td>\n",
       "      <td>-0.136117</td>\n",
       "      <td>0.094932</td>\n",
       "      <td>0.257539</td>\n",
       "      <td>0.094903</td>\n",
       "      <td>-0.044281</td>\n",
       "      <td>-0.185335</td>\n",
       "      <td>0.079696</td>\n",
       "      <td>-0.253487</td>\n",
       "    </tr>\n",
       "  </tbody>\n",
       "</table>\n",
       "<p>16118 rows × 100 columns</p>\n",
       "</div>"
      ],
      "text/plain": [
       "             0         1         2         3         4         5         6   \\\n",
       "0     -0.245191 -0.150248 -0.040848  0.264840  0.185056 -0.032839  0.088284   \n",
       "1     -0.134749  0.061137 -0.057324  0.029002 -0.138655  0.137719 -0.252304   \n",
       "2      0.175242  0.095735 -0.287328  0.323305  0.106878  0.079734  0.023414   \n",
       "3     -0.047591 -0.046050 -0.076501  0.083618 -0.035333  0.000125 -0.004801   \n",
       "4     -0.046839 -0.023255 -0.054347  0.060014 -0.010520 -0.001507 -0.033300   \n",
       "...         ...       ...       ...       ...       ...       ...       ...   \n",
       "16113 -0.062630 -0.081547 -0.033649  0.155071  0.021743 -0.083295 -0.081437   \n",
       "16114 -0.020387 -0.044659 -0.035326  0.057878 -0.006151  0.005317  0.012104   \n",
       "16115  0.153072  0.058740 -0.040204  0.245315 -0.565223  0.377168 -0.033026   \n",
       "16116 -0.032165 -0.038052  0.002486  0.068977  0.000602 -0.030664  0.017802   \n",
       "16117 -0.113431  0.100567 -0.232270  0.044944 -0.075141  0.079462 -0.166464   \n",
       "\n",
       "             7         8         9   ...        90        91        92  \\\n",
       "0      0.186258 -0.112959 -0.218214  ... -0.156383 -0.162462 -0.189303   \n",
       "1      0.055107 -0.018259  0.030587  ... -0.012598  0.115326 -0.074627   \n",
       "2     -0.186267 -0.312048 -0.405483  ... -0.173055  0.097655 -0.478746   \n",
       "3      0.078830 -0.117244 -0.099913  ... -0.064631 -0.011042 -0.041878   \n",
       "4      0.039194 -0.021815 -0.049530  ... -0.005347  0.003771 -0.015885   \n",
       "...         ...       ...       ...  ...       ...       ...       ...   \n",
       "16113  0.132574  0.011042 -0.151667  ... -0.035177 -0.044614  0.023280   \n",
       "16114  0.046041 -0.010458 -0.047270  ... -0.016952  0.000870 -0.006622   \n",
       "16115  0.203370 -0.612176  0.062836  ... -0.163426 -0.113045 -0.347899   \n",
       "16116  0.027468  0.008319 -0.065953  ... -0.021304 -0.000508 -0.006091   \n",
       "16117  0.201229 -0.206216 -0.071285  ...  0.005734 -0.039275 -0.136117   \n",
       "\n",
       "             93        94        95        96        97        98        99  \n",
       "0     -0.106040  0.247375  0.066573 -0.156592  0.067085  0.068973 -0.026552  \n",
       "1      0.184383  0.442465 -0.085729 -0.077279 -0.359278  0.024115 -0.118048  \n",
       "2     -0.295390  0.308281  0.223407 -0.090611 -0.339993 -0.279340  0.122755  \n",
       "3     -0.008243  0.078960  0.155752 -0.075465 -0.063155  0.018741 -0.034992  \n",
       "4      0.022721  0.076593  0.099197 -0.012806 -0.025491  0.023265 -0.010859  \n",
       "...         ...       ...       ...       ...       ...       ...       ...  \n",
       "16113  0.074521  0.050393  0.189543 -0.099194 -0.057143  0.140634 -0.025571  \n",
       "16114  0.033283  0.024029  0.077976 -0.044881 -0.024860  0.013554 -0.013609  \n",
       "16115 -0.168626  0.221976  0.380825 -0.162185 -0.684901 -0.072673 -0.379267  \n",
       "16116  0.032075  0.055027  0.090529 -0.053411 -0.020530  0.042446  0.008992  \n",
       "16117  0.094932  0.257539  0.094903 -0.044281 -0.185335  0.079696 -0.253487  \n",
       "\n",
       "[16118 rows x 100 columns]"
      ]
     },
     "execution_count": 41,
     "metadata": {},
     "output_type": "execute_result"
    }
   ],
   "source": [
    "df_wv"
   ]
  },
  {
   "cell_type": "code",
   "execution_count": null,
   "metadata": {},
   "outputs": [],
   "source": []
  }
 ],
 "metadata": {
  "kernelspec": {
   "display_name": "Python 3",
   "language": "python",
   "name": "python3"
  },
  "language_info": {
   "codemirror_mode": {
    "name": "ipython",
    "version": 3
   },
   "file_extension": ".py",
   "mimetype": "text/x-python",
   "name": "python",
   "nbconvert_exporter": "python",
   "pygments_lexer": "ipython3",
   "version": "3.8.5"
  }
 },
 "nbformat": 4,
 "nbformat_minor": 4
}
