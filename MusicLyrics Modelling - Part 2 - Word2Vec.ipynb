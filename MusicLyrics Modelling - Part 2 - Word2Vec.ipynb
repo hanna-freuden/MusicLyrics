{
 "cells": [
  {
   "cell_type": "markdown",
   "metadata": {},
   "source": [
    "# Get word embeddings using Word2Vec"
   ]
  },
  {
   "cell_type": "markdown",
   "metadata": {},
   "source": [
    "Credits: https://towardsdatascience.com/a-beginners-guide-to-word-embedding-with-gensim-word2vec-model-5970fa56cc92#702d"
   ]
  },
  {
   "cell_type": "code",
   "execution_count": 108,
   "metadata": {},
   "outputs": [],
   "source": [
    "import pandas as pd\n",
    "import numpy as np\n",
    "from sklearn import feature_extraction, model_selection, naive_bayes, pipeline, manifold, preprocessing\n",
    "import matplotlib.pyplot as plt\n",
    "import seaborn as sns\n",
    "from sklearn.model_selection import train_test_split"
   ]
  },
  {
   "cell_type": "code",
   "execution_count": 109,
   "metadata": {},
   "outputs": [],
   "source": [
    "from gensim.models import Word2Vec\n",
    "import gensim"
   ]
  },
  {
   "cell_type": "code",
   "execution_count": 110,
   "metadata": {},
   "outputs": [
    {
     "data": {
      "text/plain": [
       "0    sam the sham miscellaneous wooly bully wooly b...\n",
       "1    sugar pie honey bunch you know that i love you...\n",
       "2                                                     \n",
       "3    when i woke up this morning you were on my min...\n",
       "4    you never close your eyes anymore when i kiss ...\n",
       "Name: lyrics_clean, dtype: object"
      ]
     },
     "execution_count": 110,
     "metadata": {},
     "output_type": "execute_result"
    }
   ],
   "source": [
    "#df = pd.DataFrame(pd.read_pickle('df_tokenized'))\n",
    "df = pd.DataFrame(pd.read_pickle('df_add_feat'))\n",
    "#target\n",
    "y=pd.cut(df.Rank,bins=[0,50,100],labels=[1,0])\n",
    "#features\n",
    "df=df['lyrics_clean']\n",
    "df.head()"
   ]
  },
  {
   "cell_type": "code",
   "execution_count": 111,
   "metadata": {},
   "outputs": [],
   "source": [
    "## split dataset\n",
    "X_train, X_test, y_train, y_test = train_test_split(df,y, test_size=0.33, random_state=42)"
   ]
  },
  {
   "cell_type": "code",
   "execution_count": 113,
   "metadata": {},
   "outputs": [],
   "source": [
    "#preprocessing - gensim requires list of list representation\n",
    "corpus=X_train\n",
    "## create list of lists of unigrams\n",
    "lst_corpus = []\n",
    "for string in corpus:\n",
    "   lst_words = string.split()\n",
    "   lst_grams = [\" \".join(lst_words[i:i+1]) for i in range(0, len(lst_words), 1)]\n",
    "   lst_corpus.append(lst_grams)\n"
   ]
  },
  {
   "cell_type": "code",
   "execution_count": 114,
   "metadata": {},
   "outputs": [],
   "source": [
    "#train gensim word2vec model\n",
    "model = Word2Vec(lst_corpus,vector_size=300,window=8, min_count=1, sg=1)"
   ]
  },
  {
   "cell_type": "code",
   "execution_count": 115,
   "metadata": {},
   "outputs": [
    {
     "name": "stdout",
     "output_type": "stream",
     "text": [
      "size of word vector:  300\n"
     ]
    }
   ],
   "source": [
    "print(\"size of word vector: \", len(model.wv['love']))"
   ]
  },
  {
   "cell_type": "code",
   "execution_count": 116,
   "metadata": {},
   "outputs": [
    {
     "data": {
      "text/plain": [
       "0.3018259"
      ]
     },
     "execution_count": 116,
     "metadata": {},
     "output_type": "execute_result"
    }
   ],
   "source": [
    "model.wv.similarity('love', 'like')"
   ]
  },
  {
   "cell_type": "code",
   "execution_count": 117,
   "metadata": {},
   "outputs": [
    {
     "data": {
      "text/plain": [
       "0.3383848"
      ]
     },
     "execution_count": 117,
     "metadata": {},
     "output_type": "execute_result"
    }
   ],
   "source": [
    "model.wv.similarity('love', 'hate')"
   ]
  },
  {
   "cell_type": "code",
   "execution_count": 118,
   "metadata": {},
   "outputs": [
    {
     "data": {
      "text/plain": [
       "[('forsake', 0.6635217666625977),\n",
       " ('reveal', 0.6464510560035706),\n",
       " ('protection', 0.6455844640731812),\n",
       " ('willi', 0.6446429491043091),\n",
       " ('bele', 0.6421770453453064),\n",
       " ('rare', 0.6338766813278198),\n",
       " ('tainted', 0.6259242296218872),\n",
       " ('conscience', 0.6241247653961182),\n",
       " ('yearning', 0.6227433681488037),\n",
       " ('gladly', 0.6210116147994995)]"
      ]
     },
     "execution_count": 118,
     "metadata": {},
     "output_type": "execute_result"
    }
   ],
   "source": [
    "model.wv.most_similar('love')"
   ]
  },
  {
   "cell_type": "code",
   "execution_count": 126,
   "metadata": {},
   "outputs": [
    {
     "data": {
      "text/plain": [
       "941     i used to be a rolling stone you know if a cau...\n",
       "444     yeah yeah yeah yeah yeah yeah popcorn yeah yea...\n",
       "1326    nobody gets too much heaven no more its much h...\n",
       "684     last night i didnt get to sleep at all no no i...\n",
       "3803    remember when i was young and so were you and ...\n",
       "                              ...                        \n",
       "4445    ly in here with you so close to me its hard to...\n",
       "471     i cant stop this feel in deep inside of me gir...\n",
       "3111    im look in over the skyline of the city how lo...\n",
       "3791    certified quality a dat da girl dem need and d...\n",
       "868     wherever you go wherever you may wander in you...\n",
       "Name: lyrics_clean, Length: 3255, dtype: object"
      ]
     },
     "execution_count": 126,
     "metadata": {},
     "output_type": "execute_result"
    }
   ],
   "source": [
    "X_train"
   ]
  },
  {
   "cell_type": "code",
   "execution_count": 131,
   "metadata": {},
   "outputs": [],
   "source": [
    "#set of all tokens\n",
    "tokens = []\n",
    "for string in X_train:\n",
    "    lst_words = string.split()\n",
    "    for word in lst_words:\n",
    "        tokens.append(word)\n",
    "\n",
    "set_tokens=set(tokens)"
   ]
  },
  {
   "cell_type": "code",
   "execution_count": 132,
   "metadata": {},
   "outputs": [],
   "source": [
    "#cosine similarity\n",
    "from numpy.linalg import norm\n",
    "def cosine_distance (model, word,target_list , num) :\n",
    "    cosine_dict ={}\n",
    "    word_list = []\n",
    "    a = model.wv[word]\n",
    "    for item in target_list :\n",
    "        if item != word :\n",
    "            b = model.wv[item]\n",
    "            cos_sim = np.dot(a, b)/(norm(a)*norm(b))\n",
    "            cosine_dict[item] = cos_sim\n",
    "    dist_sort=sorted(cosine_dict.items(), key=lambda dist: dist[1],reverse = True) ## in Descending order \n",
    "    for item in dist_sort:\n",
    "        word_list.append((item[0], item[1]))\n",
    "    return word_list[0:num]"
   ]
  },
  {
   "cell_type": "code",
   "execution_count": 133,
   "metadata": {},
   "outputs": [
    {
     "data": {
      "text/plain": [
       "[('forsake', 0.6635218),\n",
       " ('reveal', 0.64645106),\n",
       " ('protection', 0.6455845),\n",
       " ('willi', 0.64464295),\n",
       " ('bele', 0.64217705)]"
      ]
     },
     "execution_count": 133,
     "metadata": {},
     "output_type": "execute_result"
    }
   ],
   "source": [
    "cosine_distance(model,'love',set_tokens,5)"
   ]
  },
  {
   "cell_type": "markdown",
   "metadata": {},
   "source": [
    "## Embedding matrix"
   ]
  },
  {
   "cell_type": "markdown",
   "metadata": {},
   "source": [
    "The embedding matrix has the following dimensions: number of columns equal to the number of the embedding dimension (here:300) x number of unique words. Matrix of word embeddings will be used as a weight matrix in the neural network classifier."
   ]
  },
  {
   "cell_type": "code",
   "execution_count": 134,
   "metadata": {},
   "outputs": [],
   "source": [
    "#use word vectors as features\n",
    "def get_word_vectors(model, set_tokens):\n",
    "    wv=[]\n",
    "    for token in set_tokens:\n",
    "        wv.append(model.wv[token])\n",
    "\n",
    "    wv=pd.DataFrame(wv, index=list(set_tokens))\n",
    "    \n",
    "    return wv\n",
    "        \n",
    "df_wv=get_word_vectors(model,set_tokens)\n"
   ]
  },
  {
   "cell_type": "code",
   "execution_count": 135,
   "metadata": {},
   "outputs": [
    {
     "data": {
      "text/html": [
       "<div>\n",
       "<style scoped>\n",
       "    .dataframe tbody tr th:only-of-type {\n",
       "        vertical-align: middle;\n",
       "    }\n",
       "\n",
       "    .dataframe tbody tr th {\n",
       "        vertical-align: top;\n",
       "    }\n",
       "\n",
       "    .dataframe thead th {\n",
       "        text-align: right;\n",
       "    }\n",
       "</style>\n",
       "<table border=\"1\" class=\"dataframe\">\n",
       "  <thead>\n",
       "    <tr style=\"text-align: right;\">\n",
       "      <th></th>\n",
       "      <th>0</th>\n",
       "      <th>1</th>\n",
       "      <th>2</th>\n",
       "      <th>3</th>\n",
       "      <th>4</th>\n",
       "      <th>5</th>\n",
       "      <th>6</th>\n",
       "      <th>7</th>\n",
       "      <th>8</th>\n",
       "      <th>9</th>\n",
       "      <th>...</th>\n",
       "      <th>290</th>\n",
       "      <th>291</th>\n",
       "      <th>292</th>\n",
       "      <th>293</th>\n",
       "      <th>294</th>\n",
       "      <th>295</th>\n",
       "      <th>296</th>\n",
       "      <th>297</th>\n",
       "      <th>298</th>\n",
       "      <th>299</th>\n",
       "    </tr>\n",
       "  </thead>\n",
       "  <tbody>\n",
       "    <tr>\n",
       "      <th>windows</th>\n",
       "      <td>0.037718</td>\n",
       "      <td>0.017834</td>\n",
       "      <td>0.088802</td>\n",
       "      <td>-0.110662</td>\n",
       "      <td>0.008419</td>\n",
       "      <td>0.240243</td>\n",
       "      <td>0.019919</td>\n",
       "      <td>0.159748</td>\n",
       "      <td>0.105924</td>\n",
       "      <td>0.019943</td>\n",
       "      <td>...</td>\n",
       "      <td>0.149824</td>\n",
       "      <td>0.143171</td>\n",
       "      <td>-0.008795</td>\n",
       "      <td>-0.098700</td>\n",
       "      <td>-0.022773</td>\n",
       "      <td>0.089984</td>\n",
       "      <td>-0.084374</td>\n",
       "      <td>-0.051082</td>\n",
       "      <td>0.189715</td>\n",
       "      <td>-0.034099</td>\n",
       "    </tr>\n",
       "    <tr>\n",
       "      <th>alga</th>\n",
       "      <td>0.003900</td>\n",
       "      <td>0.117164</td>\n",
       "      <td>-0.020418</td>\n",
       "      <td>-0.052630</td>\n",
       "      <td>-0.012302</td>\n",
       "      <td>-0.040892</td>\n",
       "      <td>0.056737</td>\n",
       "      <td>0.018496</td>\n",
       "      <td>0.057413</td>\n",
       "      <td>-0.043669</td>\n",
       "      <td>...</td>\n",
       "      <td>0.019416</td>\n",
       "      <td>-0.003301</td>\n",
       "      <td>0.127715</td>\n",
       "      <td>-0.047112</td>\n",
       "      <td>0.080986</td>\n",
       "      <td>0.095495</td>\n",
       "      <td>-0.033568</td>\n",
       "      <td>0.043821</td>\n",
       "      <td>0.055266</td>\n",
       "      <td>-0.066518</td>\n",
       "    </tr>\n",
       "    <tr>\n",
       "      <th>babysit</th>\n",
       "      <td>0.110012</td>\n",
       "      <td>0.330707</td>\n",
       "      <td>-0.004958</td>\n",
       "      <td>0.053938</td>\n",
       "      <td>0.035957</td>\n",
       "      <td>-0.046137</td>\n",
       "      <td>-0.056473</td>\n",
       "      <td>0.153955</td>\n",
       "      <td>0.121618</td>\n",
       "      <td>-0.121898</td>\n",
       "      <td>...</td>\n",
       "      <td>-0.118448</td>\n",
       "      <td>-0.035442</td>\n",
       "      <td>0.124680</td>\n",
       "      <td>0.106722</td>\n",
       "      <td>0.144660</td>\n",
       "      <td>0.233357</td>\n",
       "      <td>0.055906</td>\n",
       "      <td>0.101780</td>\n",
       "      <td>0.134200</td>\n",
       "      <td>-0.125592</td>\n",
       "    </tr>\n",
       "    <tr>\n",
       "      <th>gaze</th>\n",
       "      <td>0.047441</td>\n",
       "      <td>0.189099</td>\n",
       "      <td>0.051389</td>\n",
       "      <td>-0.038104</td>\n",
       "      <td>-0.002722</td>\n",
       "      <td>0.007347</td>\n",
       "      <td>0.139812</td>\n",
       "      <td>0.112888</td>\n",
       "      <td>0.030786</td>\n",
       "      <td>-0.008278</td>\n",
       "      <td>...</td>\n",
       "      <td>0.017366</td>\n",
       "      <td>0.078734</td>\n",
       "      <td>0.005316</td>\n",
       "      <td>-0.058752</td>\n",
       "      <td>0.033641</td>\n",
       "      <td>0.137589</td>\n",
       "      <td>-0.004606</td>\n",
       "      <td>0.091270</td>\n",
       "      <td>0.104496</td>\n",
       "      <td>-0.086093</td>\n",
       "    </tr>\n",
       "    <tr>\n",
       "      <th>tigers</th>\n",
       "      <td>0.057351</td>\n",
       "      <td>0.139880</td>\n",
       "      <td>-0.036175</td>\n",
       "      <td>-0.048083</td>\n",
       "      <td>0.012841</td>\n",
       "      <td>-0.045977</td>\n",
       "      <td>0.106715</td>\n",
       "      <td>0.066048</td>\n",
       "      <td>0.074795</td>\n",
       "      <td>-0.101412</td>\n",
       "      <td>...</td>\n",
       "      <td>0.039160</td>\n",
       "      <td>0.001350</td>\n",
       "      <td>0.112563</td>\n",
       "      <td>-0.033092</td>\n",
       "      <td>0.174091</td>\n",
       "      <td>0.061496</td>\n",
       "      <td>-0.050804</td>\n",
       "      <td>0.047584</td>\n",
       "      <td>0.057682</td>\n",
       "      <td>-0.101459</td>\n",
       "    </tr>\n",
       "  </tbody>\n",
       "</table>\n",
       "<p>5 rows × 300 columns</p>\n",
       "</div>"
      ],
      "text/plain": [
       "              0         1         2         3         4         5         6    \\\n",
       "windows  0.037718  0.017834  0.088802 -0.110662  0.008419  0.240243  0.019919   \n",
       "alga     0.003900  0.117164 -0.020418 -0.052630 -0.012302 -0.040892  0.056737   \n",
       "babysit  0.110012  0.330707 -0.004958  0.053938  0.035957 -0.046137 -0.056473   \n",
       "gaze     0.047441  0.189099  0.051389 -0.038104 -0.002722  0.007347  0.139812   \n",
       "tigers   0.057351  0.139880 -0.036175 -0.048083  0.012841 -0.045977  0.106715   \n",
       "\n",
       "              7         8         9    ...       290       291       292  \\\n",
       "windows  0.159748  0.105924  0.019943  ...  0.149824  0.143171 -0.008795   \n",
       "alga     0.018496  0.057413 -0.043669  ...  0.019416 -0.003301  0.127715   \n",
       "babysit  0.153955  0.121618 -0.121898  ... -0.118448 -0.035442  0.124680   \n",
       "gaze     0.112888  0.030786 -0.008278  ...  0.017366  0.078734  0.005316   \n",
       "tigers   0.066048  0.074795 -0.101412  ...  0.039160  0.001350  0.112563   \n",
       "\n",
       "              293       294       295       296       297       298       299  \n",
       "windows -0.098700 -0.022773  0.089984 -0.084374 -0.051082  0.189715 -0.034099  \n",
       "alga    -0.047112  0.080986  0.095495 -0.033568  0.043821  0.055266 -0.066518  \n",
       "babysit  0.106722  0.144660  0.233357  0.055906  0.101780  0.134200 -0.125592  \n",
       "gaze    -0.058752  0.033641  0.137589 -0.004606  0.091270  0.104496 -0.086093  \n",
       "tigers  -0.033092  0.174091  0.061496 -0.050804  0.047584  0.057682 -0.101459  \n",
       "\n",
       "[5 rows x 300 columns]"
      ]
     },
     "execution_count": 135,
     "metadata": {},
     "output_type": "execute_result"
    }
   ],
   "source": [
    "df_wv.head()"
   ]
  },
  {
   "cell_type": "code",
   "execution_count": 136,
   "metadata": {},
   "outputs": [
    {
     "data": {
      "text/plain": [
       "(15705, 300)"
      ]
     },
     "execution_count": 136,
     "metadata": {},
     "output_type": "execute_result"
    }
   ],
   "source": [
    "df_wv.shape"
   ]
  },
  {
   "cell_type": "code",
   "execution_count": 137,
   "metadata": {},
   "outputs": [
    {
     "data": {
      "image/png": "[encoded data removed]",
      "text/plain": [
       "<Figure size 720x720 with 1 Axes>"
      ]
     },
     "metadata": {
      "needs_background": "light"
     },
     "output_type": "display_data"
    }
   ],
   "source": [
    "#plot word embeddings \n",
    "\n",
    "import warnings\n",
    "warnings.filterwarnings('ignore')\n",
    "word = \"love\"\n",
    "fig = plt.figure(figsize=[10,10])\n",
    "## word embedding\n",
    "tot_words = [word] + [tupla[0] for tupla in \n",
    "                 model.wv.most_similar(word, topn=20)]\n",
    "X =  model.wv[tot_words]\n",
    "## pca to reduce dimensionality from 300 to 3\n",
    "pca = manifold.TSNE(perplexity=40, n_components=3, init='pca')\n",
    "X = pca.fit_transform(X)\n",
    "## create dtf\n",
    "dtf_ = pd.DataFrame(X, index=tot_words, columns=[\"x\",\"y\",\"z\"])\n",
    "dtf_[\"input\"] = 0\n",
    "dtf_[\"input\"].iloc[0:1] = 1\n",
    "## plot 3d\n",
    "from mpl_toolkits.mplot3d import Axes3D\n",
    "ax = fig.add_subplot(111, projection='3d')\n",
    "ax.scatter(dtf_[dtf_[\"input\"]==0]['x'], \n",
    "           dtf_[dtf_[\"input\"]==0]['y'], \n",
    "           dtf_[dtf_[\"input\"]==0]['z'], c=\"black\")\n",
    "ax.scatter(dtf_[dtf_[\"input\"]==1]['x'], \n",
    "           dtf_[dtf_[\"input\"]==1]['y'], \n",
    "           dtf_[dtf_[\"input\"]==1]['z'], c=\"red\")\n",
    "ax.set(xlabel=None, ylabel=None, zlabel=None, xticklabels=[], \n",
    "       yticklabels=[], zticklabels=[])\n",
    "for label, row in dtf_[[\"x\",\"y\",\"z\"]].iterrows():\n",
    "    x, y, z = row\n",
    "    ax.text(x, y, z, s=label)"
   ]
  },
  {
   "cell_type": "markdown",
   "metadata": {},
   "source": [
    "## Neural Network using word embeddings"
   ]
  },
  {
   "cell_type": "markdown",
   "metadata": {},
   "source": [
    "Credits: https://towardsdatascience.com/text-classification-with-nlp-tf-idf-vs-word2vec-vs-bert-41ff868d1794"
   ]
  },
  {
   "cell_type": "markdown",
   "metadata": {},
   "source": [
    "## Create feature matrix"
   ]
  },
  {
   "cell_type": "code",
   "execution_count": 138,
   "metadata": {},
   "outputs": [],
   "source": [
    "from tensorflow.keras import models, layers, preprocessing as kprocessing\n",
    "from tensorflow.keras import backend as K"
   ]
  },
  {
   "cell_type": "code",
   "execution_count": 139,
   "metadata": {},
   "outputs": [
    {
     "data": {
      "text/plain": [
       "pandas.core.series.Series"
      ]
     },
     "execution_count": 139,
     "metadata": {},
     "output_type": "execute_result"
    }
   ],
   "source": [
    "type(X_train)"
   ]
  },
  {
   "cell_type": "code",
   "execution_count": 140,
   "metadata": {},
   "outputs": [],
   "source": [
    "tokenizer = kprocessing.text.Tokenizer(lower=True, split=' ', \n",
    "                     oov_token=\"NaN\", \n",
    "                     filters='!\"#$%&()*+,-./:;<=>?@[\\\\]^_`{|}~\\t\\n')\n",
    "tokenizer.fit_on_texts(lst_corpus)\n",
    "dic_vocabulary = tokenizer.word_index\n",
    "## create sequence\n",
    "lst_text2seq= tokenizer.texts_to_sequences(lst_corpus)"
   ]
  },
  {
   "cell_type": "code",
   "execution_count": 141,
   "metadata": {},
   "outputs": [
    {
     "name": "stdout",
     "output_type": "stream",
     "text": [
      "Max length of sequence is:  1229\n"
     ]
    }
   ],
   "source": [
    "#get max len sequence\n",
    "max_len=max([len(list) for list in lst_text2seq])\n",
    "print(\"Max length of sequence is: \", max_len)"
   ]
  },
  {
   "cell_type": "code",
   "execution_count": 142,
   "metadata": {},
   "outputs": [],
   "source": [
    "## padding sequence\n",
    "X_train = kprocessing.sequence.pad_sequences(lst_text2seq, \n",
    "                    maxlen=max_len, padding=\"post\", truncating=\"post\")"
   ]
  },
  {
   "cell_type": "code",
   "execution_count": 143,
   "metadata": {},
   "outputs": [
    {
     "data": {
      "image/png": "[encoded data removed]",
      "text/plain": [
       "<Figure size 432x288 with 1 Axes>"
      ]
     },
     "metadata": {
      "needs_background": "light"
     },
     "output_type": "display_data"
    }
   ],
   "source": [
    "sns.heatmap(X_train==0, vmin=0, vmax=1, cbar=False)\n",
    "plt.show()"
   ]
  },
  {
   "cell_type": "code",
   "execution_count": 144,
   "metadata": {},
   "outputs": [],
   "source": [
    "#preprocessing on test set\n",
    "corpus = X_test\n",
    "\n",
    "## create list of n-grams\n",
    "lst_corpus = []\n",
    "for string in corpus:\n",
    "    lst_words = string.split()\n",
    "    lst_grams = [\" \".join(lst_words[i:i+1]) for i in range(0, \n",
    "                 len(lst_words), 1)]\n",
    "    lst_corpus.append(lst_grams)\n",
    "    \n",
    "\n",
    "## padding sequence\n",
    "X_test = kprocessing.sequence.pad_sequences(lst_text2seq, maxlen=15,\n",
    "             padding=\"post\", truncating=\"post\")\n"
   ]
  },
  {
   "cell_type": "markdown",
   "metadata": {},
   "source": [
    "## Create embeddings matrix"
   ]
  },
  {
   "cell_type": "code",
   "execution_count": 149,
   "metadata": {},
   "outputs": [
    {
     "name": "stdout",
     "output_type": "stream",
     "text": [
      "Model: \"model_2\"\n",
      "__________________________________________________________________________________________________\n",
      "Layer (type)                    Output Shape         Param #     Connected to                     \n",
      "==================================================================================================\n",
      "input_4 (InputLayer)            [(None, 1229)]       0                                            \n",
      "__________________________________________________________________________________________________\n",
      "embedding_3 (Embedding)         (None, 1229, 300)    4711500     input_4[0][0]                    \n",
      "__________________________________________________________________________________________________\n",
      "permute_3 (Permute)             (None, 300, 1229)    0           embedding_3[0][0]                \n",
      "__________________________________________________________________________________________________\n",
      "dense_7 (Dense)                 (None, 300, 1229)    1511670     permute_3[0][0]                  \n",
      "__________________________________________________________________________________________________\n",
      "attention (Permute)             (None, 1229, 300)    0           dense_7[0][0]                    \n",
      "__________________________________________________________________________________________________\n",
      "multiply_3 (Multiply)           (None, 1229, 300)    0           embedding_3[0][0]                \n",
      "                                                                 attention[0][0]                  \n",
      "__________________________________________________________________________________________________\n",
      "bidirectional_4 (Bidirectional) (None, 1229, 2458)   15042960    multiply_3[0][0]                 \n",
      "__________________________________________________________________________________________________\n",
      "bidirectional_5 (Bidirectional) (None, 2458)         36260416    bidirectional_4[0][0]            \n",
      "__________________________________________________________________________________________________\n",
      "dense_8 (Dense)                 (None, 64)           157376      bidirectional_5[0][0]            \n",
      "__________________________________________________________________________________________________\n",
      "dense_9 (Dense)                 (None, 3)            195         dense_8[0][0]                    \n",
      "==================================================================================================\n",
      "Total params: 57,684,117\n",
      "Trainable params: 52,972,617\n",
      "Non-trainable params: 4,711,500\n",
      "__________________________________________________________________________________________________\n"
     ]
    }
   ],
   "source": [
    "embeddings=df_wv\n",
    "## code attention layer\n",
    "def attention_layer(inputs, neurons):\n",
    "    x = layers.Permute((2,1))(inputs)\n",
    "    x = layers.Dense(neurons, activation=\"softmax\")(x)\n",
    "    x = layers.Permute((2,1), name=\"attention\")(x)\n",
    "    x = layers.multiply([inputs, x])\n",
    "    return x\n",
    "\n",
    "## input\n",
    "x_in = layers.Input(shape=(max_len,))\n",
    "## embedding\n",
    "x = layers.Embedding(input_dim=embeddings.shape[0],  \n",
    "                     output_dim=embeddings.shape[1], \n",
    "                     weights=[embeddings],\n",
    "                     input_length=max_len, trainable=False)(x_in)\n",
    "## apply attention\n",
    "x = attention_layer(x, neurons=max_len)\n",
    "## 2 layers of bidirectional lstm\n",
    "x = layers.Bidirectional(layers.LSTM(units=max_len, dropout=0.2, \n",
    "                         return_sequences=True))(x)\n",
    "x = layers.Bidirectional(layers.LSTM(units=max_len, dropout=0.2))(x)\n",
    "## final dense layers\n",
    "x = layers.Dense(64, activation='relu')(x)\n",
    "y_out = layers.Dense(3, activation='softmax')(x)\n",
    "## compile\n",
    "model = models.Model(x_in, y_out)\n",
    "model.compile(loss='sparse_categorical_crossentropy',\n",
    "              optimizer='adam', metrics=['accuracy'])\n",
    "\n",
    "model.summary()"
   ]
  },
  {
   "cell_type": "code",
   "execution_count": null,
   "metadata": {},
   "outputs": [],
   "source": [
    "## encode y\n",
    "dic_y_mapping = {n:label for n,label in \n",
    "                 enumerate(np.unique(y_train))}\n",
    "inverse_dic = {v:k for k,v in dic_y_mapping.items()}\n",
    "y_train = np.array([inverse_dic[y] for y in y_train])\n",
    "## train\n",
    "training = model.fit(x=X_train, y=y_train, batch_size=256, \n",
    "                     epochs=10, shuffle=True, verbose=0, \n",
    "                     validation_split=0.3)\n",
    "## plot loss and accuracy\n",
    "metrics = [k for k in training.history.keys() if (\"loss\" not in k) and (\"val\" not in k)]\n",
    "fig, ax = plt.subplots(nrows=1, ncols=2, sharey=True)\n",
    "ax[0].set(title=\"Training\")\n",
    "ax11 = ax[0].twinx()\n",
    "ax[0].plot(training.history['loss'], color='black')\n",
    "ax[0].set_xlabel('Epochs')\n",
    "ax[0].set_ylabel('Loss', color='black')\n",
    "for metric in metrics:\n",
    "    ax11.plot(training.history[metric], label=metric)\n",
    "ax11.set_ylabel(\"Score\", color='steelblue')\n",
    "ax11.legend()\n",
    "ax[1].set(title=\"Validation\")\n",
    "ax22 = ax[1].twinx()\n",
    "ax[1].plot(training.history['val_loss'], color='black')\n",
    "ax[1].set_xlabel('Epochs')\n",
    "ax[1].set_ylabel('Loss', color='black')\n",
    "for metric in metrics:\n",
    "     ax22.plot(training.history['val_'+metric], label=metric)\n",
    "ax22.set_ylabel(\"Score\", color=\"steelblue\")\n",
    "plt.show()"
   ]
  },
  {
   "cell_type": "code",
   "execution_count": null,
   "metadata": {},
   "outputs": [],
   "source": []
  }
 ],
 "metadata": {
  "kernelspec": {
   "display_name": "Python 3",
   "language": "python",
   "name": "python3"
  },
  "language_info": {
   "codemirror_mode": {
    "name": "ipython",
    "version": 3
   },
   "file_extension": ".py",
   "mimetype": "text/x-python",
   "name": "python",
   "nbconvert_exporter": "python",
   "pygments_lexer": "ipython3",
   "version": "3.8.5"
  }
 },
 "nbformat": 4,
 "nbformat_minor": 4
}
