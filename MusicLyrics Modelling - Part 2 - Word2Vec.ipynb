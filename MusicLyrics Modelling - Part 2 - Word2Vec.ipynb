{
 "cells": [
  {
   "cell_type": "markdown",
   "metadata": {},
   "source": [
    "# Get word embeddings using Word2Vec"
   ]
  },
  {
   "cell_type": "markdown",
   "metadata": {},
   "source": [
    "Credits: https://towardsdatascience.com/a-beginners-guide-to-word-embedding-with-gensim-word2vec-model-5970fa56cc92#702d"
   ]
  },
  {
   "cell_type": "code",
   "execution_count": 1,
   "metadata": {},
   "outputs": [],
   "source": [
    "import pandas as pd\n",
    "import numpy as np\n",
    "from sklearn import feature_extraction, model_selection, naive_bayes, pipeline, manifold, preprocessing\n",
    "import matplotlib.pyplot as plt\n",
    "import seaborn as sns\n",
    "from sklearn.model_selection import train_test_split"
   ]
  },
  {
   "cell_type": "code",
   "execution_count": 2,
   "metadata": {},
   "outputs": [],
   "source": [
    "from gensim.models import Word2Vec\n",
    "import gensim"
   ]
  },
  {
   "cell_type": "code",
   "execution_count": 3,
   "metadata": {},
   "outputs": [
    {
     "data": {
      "text/plain": [
       "0    sam the sham miscellaneous wooly bully wooly b...\n",
       "1    sugar pie honey bunch you know that i love you...\n",
       "3    when i woke up this morning you were on my min...\n",
       "4    you never close your eyes anymore when i kiss ...\n",
       "5    when you re alone and life is making you lonel...\n",
       "Name: lyrics_clean, dtype: object"
      ]
     },
     "execution_count": 3,
     "metadata": {},
     "output_type": "execute_result"
    }
   ],
   "source": [
    "#df = pd.DataFrame(pd.read_pickle('df_tokenized'))\n",
    "df = pd.DataFrame(pd.read_pickle('df_add_feat'))\n",
    "#target\n",
    "y=pd.cut(df.Rank,bins=[0,50,100],labels=[1,0])\n",
    "#features\n",
    "df_text=df['lyrics_clean']\n",
    "df_text.head()"
   ]
  },
  {
   "cell_type": "code",
   "execution_count": 4,
   "metadata": {},
   "outputs": [],
   "source": [
    "## split dataset\n",
    "#X_train, X_test, y_train, y_test = train_test_split(df,y, test_size=0.33, random_state=42)"
   ]
  },
  {
   "cell_type": "code",
   "execution_count": 5,
   "metadata": {},
   "outputs": [],
   "source": [
    "#preprocessing - gensim requires list of list representation\n",
    "corpus=df_text\n",
    "## create list of lists of unigrams\n",
    "lst_corpus = []\n",
    "for string in corpus:\n",
    "   lst_words = string.split()\n",
    "   lst_grams = [\" \".join(lst_words[i:i+1]) for i in range(0, len(lst_words), 1)]\n",
    "   lst_corpus.append(lst_grams)\n"
   ]
  },
  {
   "cell_type": "code",
   "execution_count": 6,
   "metadata": {},
   "outputs": [],
   "source": [
    "#train gensim word2vec model\n",
    "model = Word2Vec(lst_corpus,vector_size=300,window=8, min_count=1, sg=1)"
   ]
  },
  {
   "cell_type": "code",
   "execution_count": 7,
   "metadata": {},
   "outputs": [
    {
     "name": "stdout",
     "output_type": "stream",
     "text": [
      "size of word vector:  300\n"
     ]
    }
   ],
   "source": [
    "print(\"size of word vector: \", len(model.wv['love']))"
   ]
  },
  {
   "cell_type": "code",
   "execution_count": 8,
   "metadata": {},
   "outputs": [
    {
     "data": {
      "text/plain": [
       "0.22790991"
      ]
     },
     "execution_count": 8,
     "metadata": {},
     "output_type": "execute_result"
    }
   ],
   "source": [
    "model.wv.similarity('love', 'like')"
   ]
  },
  {
   "cell_type": "code",
   "execution_count": 9,
   "metadata": {},
   "outputs": [
    {
     "data": {
      "text/plain": [
       "0.29659894"
      ]
     },
     "execution_count": 9,
     "metadata": {},
     "output_type": "execute_result"
    }
   ],
   "source": [
    "model.wv.similarity('love', 'hate')"
   ]
  },
  {
   "cell_type": "code",
   "execution_count": 10,
   "metadata": {},
   "outputs": [
    {
     "data": {
      "text/plain": [
       "[('unfurl', 0.6157669425010681),\n",
       " ('conquer', 0.6099445819854736),\n",
       " ('forsake', 0.6015743017196655),\n",
       " ('sensitive', 0.5989111065864563),\n",
       " ('pleading', 0.5975530743598938),\n",
       " ('alfie', 0.5951045751571655),\n",
       " ('creamy', 0.5926474928855896),\n",
       " ('madly', 0.5918564796447754),\n",
       " ('youthful', 0.591113805770874),\n",
       " ('perish', 0.5890753865242004)]"
      ]
     },
     "execution_count": 10,
     "metadata": {},
     "output_type": "execute_result"
    }
   ],
   "source": [
    "model.wv.most_similar('love')"
   ]
  },
  {
   "cell_type": "code",
   "execution_count": 11,
   "metadata": {},
   "outputs": [],
   "source": [
    "#get set of all tokens\n",
    "tokens = []\n",
    "for string in df_text:\n",
    "    lst_words = string.split()\n",
    "    for word in lst_words:\n",
    "        tokens.append(word)\n",
    "\n",
    "set_tokens=set(tokens)"
   ]
  },
  {
   "cell_type": "code",
   "execution_count": 12,
   "metadata": {},
   "outputs": [
    {
     "data": {
      "text/plain": [
       "18632"
      ]
     },
     "execution_count": 12,
     "metadata": {},
     "output_type": "execute_result"
    }
   ],
   "source": [
    "#no of unique words\n",
    "len(set_tokens)"
   ]
  },
  {
   "cell_type": "code",
   "execution_count": 13,
   "metadata": {},
   "outputs": [],
   "source": [
    "#cosine similarity\n",
    "from numpy.linalg import norm\n",
    "def cosine_distance (model, word,target_list , num) :\n",
    "    cosine_dict ={}\n",
    "    word_list = []\n",
    "    a = model.wv[word]\n",
    "    for item in target_list :\n",
    "        if item != word :\n",
    "            b = model.wv[item]\n",
    "            cos_sim = np.dot(a, b)/(norm(a)*norm(b))\n",
    "            cosine_dict[item] = cos_sim\n",
    "    dist_sort=sorted(cosine_dict.items(), key=lambda dist: dist[1],reverse = True) ## in Descending order \n",
    "    for item in dist_sort:\n",
    "        word_list.append((item[0], item[1]))\n",
    "    return word_list[0:num]"
   ]
  },
  {
   "cell_type": "code",
   "execution_count": 14,
   "metadata": {},
   "outputs": [
    {
     "data": {
      "text/plain": [
       "[('unfurl', 0.6157669),\n",
       " ('conquer', 0.60994464),\n",
       " ('forsake', 0.6015743),\n",
       " ('sensitive', 0.59891117),\n",
       " ('pleading', 0.5975531)]"
      ]
     },
     "execution_count": 14,
     "metadata": {},
     "output_type": "execute_result"
    }
   ],
   "source": [
    "cosine_distance(model,'love',set_tokens,5)"
   ]
  },
  {
   "cell_type": "markdown",
   "metadata": {},
   "source": [
    "## Embedding matrix"
   ]
  },
  {
   "cell_type": "markdown",
   "metadata": {},
   "source": [
    "The embedding matrix has the following dimensions: number of columns equal to the number of the embedding dimension (here:300) x number of unique words. Matrix of word embeddings will be used as a weight matrix in the neural network classifier."
   ]
  },
  {
   "cell_type": "code",
   "execution_count": 15,
   "metadata": {},
   "outputs": [],
   "source": [
    "#use word vectors as features\n",
    "def get_word_vectors(model, set_tokens):\n",
    "    wv=[]\n",
    "    for token in set_tokens:\n",
    "        wv.append(model.wv[token])\n",
    "\n",
    "    wv=pd.DataFrame(wv, index=list(set_tokens))\n",
    "    \n",
    "    return wv\n",
    "        \n",
    "df_wv=get_word_vectors(model,set_tokens)\n"
   ]
  },
  {
   "cell_type": "code",
   "execution_count": 16,
   "metadata": {},
   "outputs": [
    {
     "data": {
      "text/html": [
       "<div>\n",
       "<style scoped>\n",
       "    .dataframe tbody tr th:only-of-type {\n",
       "        vertical-align: middle;\n",
       "    }\n",
       "\n",
       "    .dataframe tbody tr th {\n",
       "        vertical-align: top;\n",
       "    }\n",
       "\n",
       "    .dataframe thead th {\n",
       "        text-align: right;\n",
       "    }\n",
       "</style>\n",
       "<table border=\"1\" class=\"dataframe\">\n",
       "  <thead>\n",
       "    <tr style=\"text-align: right;\">\n",
       "      <th></th>\n",
       "      <th>0</th>\n",
       "      <th>1</th>\n",
       "      <th>2</th>\n",
       "      <th>3</th>\n",
       "      <th>4</th>\n",
       "      <th>5</th>\n",
       "      <th>6</th>\n",
       "      <th>7</th>\n",
       "      <th>8</th>\n",
       "      <th>9</th>\n",
       "      <th>...</th>\n",
       "      <th>290</th>\n",
       "      <th>291</th>\n",
       "      <th>292</th>\n",
       "      <th>293</th>\n",
       "      <th>294</th>\n",
       "      <th>295</th>\n",
       "      <th>296</th>\n",
       "      <th>297</th>\n",
       "      <th>298</th>\n",
       "      <th>299</th>\n",
       "    </tr>\n",
       "  </thead>\n",
       "  <tbody>\n",
       "    <tr>\n",
       "      <th>seaton</th>\n",
       "      <td>-0.047000</td>\n",
       "      <td>0.026373</td>\n",
       "      <td>0.058923</td>\n",
       "      <td>-0.044333</td>\n",
       "      <td>0.035846</td>\n",
       "      <td>-0.088449</td>\n",
       "      <td>0.021019</td>\n",
       "      <td>0.107275</td>\n",
       "      <td>0.032263</td>\n",
       "      <td>-0.065926</td>\n",
       "      <td>...</td>\n",
       "      <td>-0.032673</td>\n",
       "      <td>0.108863</td>\n",
       "      <td>0.002687</td>\n",
       "      <td>-0.008151</td>\n",
       "      <td>-0.077914</td>\n",
       "      <td>0.012440</td>\n",
       "      <td>-0.012574</td>\n",
       "      <td>-0.012294</td>\n",
       "      <td>-0.022037</td>\n",
       "      <td>0.071189</td>\n",
       "    </tr>\n",
       "    <tr>\n",
       "      <th>criteria</th>\n",
       "      <td>-0.048593</td>\n",
       "      <td>0.076605</td>\n",
       "      <td>0.082853</td>\n",
       "      <td>-0.088455</td>\n",
       "      <td>0.065296</td>\n",
       "      <td>-0.097750</td>\n",
       "      <td>0.049689</td>\n",
       "      <td>0.190013</td>\n",
       "      <td>0.043216</td>\n",
       "      <td>-0.093995</td>\n",
       "      <td>...</td>\n",
       "      <td>-0.035724</td>\n",
       "      <td>0.141622</td>\n",
       "      <td>-0.006257</td>\n",
       "      <td>0.010841</td>\n",
       "      <td>-0.107927</td>\n",
       "      <td>0.019987</td>\n",
       "      <td>-0.010355</td>\n",
       "      <td>0.015371</td>\n",
       "      <td>-0.024396</td>\n",
       "      <td>0.100468</td>\n",
       "    </tr>\n",
       "    <tr>\n",
       "      <th>schoolboys</th>\n",
       "      <td>-0.065719</td>\n",
       "      <td>0.034370</td>\n",
       "      <td>0.061141</td>\n",
       "      <td>-0.077603</td>\n",
       "      <td>0.064510</td>\n",
       "      <td>-0.123637</td>\n",
       "      <td>0.028787</td>\n",
       "      <td>0.169124</td>\n",
       "      <td>0.007460</td>\n",
       "      <td>-0.083901</td>\n",
       "      <td>...</td>\n",
       "      <td>-0.040172</td>\n",
       "      <td>0.095251</td>\n",
       "      <td>-0.011905</td>\n",
       "      <td>0.024356</td>\n",
       "      <td>-0.103902</td>\n",
       "      <td>0.028844</td>\n",
       "      <td>-0.007555</td>\n",
       "      <td>0.007406</td>\n",
       "      <td>-0.030136</td>\n",
       "      <td>0.072647</td>\n",
       "    </tr>\n",
       "    <tr>\n",
       "      <th>impaled</th>\n",
       "      <td>-0.047955</td>\n",
       "      <td>0.002949</td>\n",
       "      <td>0.048360</td>\n",
       "      <td>-0.029128</td>\n",
       "      <td>0.021768</td>\n",
       "      <td>-0.080835</td>\n",
       "      <td>0.006199</td>\n",
       "      <td>0.134822</td>\n",
       "      <td>0.015281</td>\n",
       "      <td>-0.068371</td>\n",
       "      <td>...</td>\n",
       "      <td>-0.018407</td>\n",
       "      <td>0.097432</td>\n",
       "      <td>-0.003606</td>\n",
       "      <td>0.013685</td>\n",
       "      <td>-0.086630</td>\n",
       "      <td>0.024717</td>\n",
       "      <td>-0.003277</td>\n",
       "      <td>-0.002802</td>\n",
       "      <td>-0.028988</td>\n",
       "      <td>0.067788</td>\n",
       "    </tr>\n",
       "    <tr>\n",
       "      <th>obi</th>\n",
       "      <td>-0.226381</td>\n",
       "      <td>0.103059</td>\n",
       "      <td>0.037034</td>\n",
       "      <td>0.050004</td>\n",
       "      <td>-0.244611</td>\n",
       "      <td>-0.349411</td>\n",
       "      <td>0.230636</td>\n",
       "      <td>0.412421</td>\n",
       "      <td>0.038785</td>\n",
       "      <td>-0.243716</td>\n",
       "      <td>...</td>\n",
       "      <td>0.215103</td>\n",
       "      <td>0.106950</td>\n",
       "      <td>0.090248</td>\n",
       "      <td>-0.084984</td>\n",
       "      <td>-0.288695</td>\n",
       "      <td>-0.102678</td>\n",
       "      <td>0.101673</td>\n",
       "      <td>0.130155</td>\n",
       "      <td>-0.154411</td>\n",
       "      <td>0.276459</td>\n",
       "    </tr>\n",
       "  </tbody>\n",
       "</table>\n",
       "<p>5 rows × 300 columns</p>\n",
       "</div>"
      ],
      "text/plain": [
       "                 0         1         2         3         4         5    \\\n",
       "seaton     -0.047000  0.026373  0.058923 -0.044333  0.035846 -0.088449   \n",
       "criteria   -0.048593  0.076605  0.082853 -0.088455  0.065296 -0.097750   \n",
       "schoolboys -0.065719  0.034370  0.061141 -0.077603  0.064510 -0.123637   \n",
       "impaled    -0.047955  0.002949  0.048360 -0.029128  0.021768 -0.080835   \n",
       "obi        -0.226381  0.103059  0.037034  0.050004 -0.244611 -0.349411   \n",
       "\n",
       "                 6         7         8         9    ...       290       291  \\\n",
       "seaton      0.021019  0.107275  0.032263 -0.065926  ... -0.032673  0.108863   \n",
       "criteria    0.049689  0.190013  0.043216 -0.093995  ... -0.035724  0.141622   \n",
       "schoolboys  0.028787  0.169124  0.007460 -0.083901  ... -0.040172  0.095251   \n",
       "impaled     0.006199  0.134822  0.015281 -0.068371  ... -0.018407  0.097432   \n",
       "obi         0.230636  0.412421  0.038785 -0.243716  ...  0.215103  0.106950   \n",
       "\n",
       "                 292       293       294       295       296       297  \\\n",
       "seaton      0.002687 -0.008151 -0.077914  0.012440 -0.012574 -0.012294   \n",
       "criteria   -0.006257  0.010841 -0.107927  0.019987 -0.010355  0.015371   \n",
       "schoolboys -0.011905  0.024356 -0.103902  0.028844 -0.007555  0.007406   \n",
       "impaled    -0.003606  0.013685 -0.086630  0.024717 -0.003277 -0.002802   \n",
       "obi         0.090248 -0.084984 -0.288695 -0.102678  0.101673  0.130155   \n",
       "\n",
       "                 298       299  \n",
       "seaton     -0.022037  0.071189  \n",
       "criteria   -0.024396  0.100468  \n",
       "schoolboys -0.030136  0.072647  \n",
       "impaled    -0.028988  0.067788  \n",
       "obi        -0.154411  0.276459  \n",
       "\n",
       "[5 rows x 300 columns]"
      ]
     },
     "execution_count": 16,
     "metadata": {},
     "output_type": "execute_result"
    }
   ],
   "source": [
    "df_wv.head()"
   ]
  },
  {
   "cell_type": "code",
   "execution_count": 17,
   "metadata": {},
   "outputs": [
    {
     "data": {
      "text/plain": [
       "(18632, 300)"
      ]
     },
     "execution_count": 17,
     "metadata": {},
     "output_type": "execute_result"
    }
   ],
   "source": [
    "df_wv.shape"
   ]
  },
  {
   "cell_type": "code",
   "execution_count": 18,
   "metadata": {},
   "outputs": [
    {
     "data": {
      "image/png": "[encoded data removed]",
      "text/plain": [
       "<Figure size 720x720 with 1 Axes>"
      ]
     },
     "metadata": {
      "needs_background": "light"
     },
     "output_type": "display_data"
    }
   ],
   "source": [
    "#plot word embeddings \n",
    "\n",
    "import warnings\n",
    "warnings.filterwarnings('ignore')\n",
    "word = \"love\"\n",
    "fig = plt.figure(figsize=[10,10])\n",
    "## word embedding\n",
    "tot_words = [word] + [tupla[0] for tupla in \n",
    "                 model.wv.most_similar(word, topn=20)]\n",
    "X =  model.wv[tot_words]\n",
    "## pca to reduce dimensionality from 300 to 3\n",
    "pca = manifold.TSNE(perplexity=40, n_components=3, init='pca')\n",
    "X = pca.fit_transform(X)\n",
    "## create dtf\n",
    "dtf_ = pd.DataFrame(X, index=tot_words, columns=[\"x\",\"y\",\"z\"])\n",
    "dtf_[\"input\"] = 0\n",
    "dtf_[\"input\"].iloc[0:1] = 1\n",
    "## plot 3d\n",
    "from mpl_toolkits.mplot3d import Axes3D\n",
    "ax = fig.add_subplot(111, projection='3d')\n",
    "ax.scatter(dtf_[dtf_[\"input\"]==0]['x'], \n",
    "           dtf_[dtf_[\"input\"]==0]['y'], \n",
    "           dtf_[dtf_[\"input\"]==0]['z'], c=\"black\")\n",
    "ax.scatter(dtf_[dtf_[\"input\"]==1]['x'], \n",
    "           dtf_[dtf_[\"input\"]==1]['y'], \n",
    "           dtf_[dtf_[\"input\"]==1]['z'], c=\"red\")\n",
    "ax.set(xlabel=None, ylabel=None, zlabel=None, xticklabels=[], \n",
    "       yticklabels=[], zticklabels=[])\n",
    "for label, row in dtf_[[\"x\",\"y\",\"z\"]].iterrows():\n",
    "    x, y, z = row\n",
    "    ax.text(x, y, z, s=label)"
   ]
  },
  {
   "cell_type": "code",
   "execution_count": 19,
   "metadata": {},
   "outputs": [],
   "source": [
    "#save index as array and reset index\n",
    "wv_index=df_wv.index\n",
    "#df_wv=df_wv.reset_index(drop=True)"
   ]
  },
  {
   "cell_type": "markdown",
   "metadata": {},
   "source": [
    "Credits: https://towardsdatascience.com/text-classification-with-nlp-tf-idf-vs-word2vec-vs-bert-41ff868d1794"
   ]
  },
  {
   "cell_type": "markdown",
   "metadata": {},
   "source": [
    "## Create feature matrix"
   ]
  },
  {
   "cell_type": "code",
   "execution_count": 20,
   "metadata": {},
   "outputs": [],
   "source": [
    "from tensorflow.keras import models, layers, preprocessing as kprocessing\n",
    "from tensorflow.keras import backend as K"
   ]
  },
  {
   "cell_type": "code",
   "execution_count": 21,
   "metadata": {},
   "outputs": [],
   "source": [
    "tokenizer = kprocessing.text.Tokenizer(lower=True, split=' ', \n",
    "                     oov_token=None, \n",
    "                     filters='!\"#$%&()*+,-./:;<=>?@[\\\\]^_`{|}~\\t\\n')\n",
    "tokenizer.fit_on_texts(lst_corpus)\n",
    "dic_vocabulary = tokenizer.word_index\n",
    "## create sequence\n",
    "lst_text2seq= tokenizer.texts_to_sequences(lst_corpus)"
   ]
  },
  {
   "cell_type": "code",
   "execution_count": 22,
   "metadata": {},
   "outputs": [
    {
     "name": "stdout",
     "output_type": "stream",
     "text": [
      "Max length of sequence is:  1290\n"
     ]
    }
   ],
   "source": [
    "#get max len sequence\n",
    "max_len=max([len(list) for list in lst_text2seq])\n",
    "print(\"Max length of sequence is: \", max_len)"
   ]
  },
  {
   "cell_type": "code",
   "execution_count": 23,
   "metadata": {},
   "outputs": [],
   "source": [
    "## padding sequence\n",
    "X = kprocessing.sequence.pad_sequences(lst_text2seq, \n",
    "                    maxlen=max_len, padding=\"post\", truncating=\"post\")"
   ]
  },
  {
   "cell_type": "code",
   "execution_count": 24,
   "metadata": {},
   "outputs": [
    {
     "data": {
      "image/png": "[encoded data removed]",
      "text/plain": [
       "<Figure size 432x288 with 1 Axes>"
      ]
     },
     "metadata": {
      "needs_background": "light"
     },
     "output_type": "display_data"
    }
   ],
   "source": [
    "sns.heatmap(X==0, vmin=0, vmax=1, cbar=False)\n",
    "plt.show()"
   ]
  },
  {
   "cell_type": "code",
   "execution_count": 25,
   "metadata": {},
   "outputs": [
    {
     "data": {
      "text/plain": [
       "(18632, 300)"
      ]
     },
     "execution_count": 25,
     "metadata": {},
     "output_type": "execute_result"
    }
   ],
   "source": [
    "#no of words in embedding matrix?\n",
    "df_wv.shape\n"
   ]
  },
  {
   "cell_type": "code",
   "execution_count": 26,
   "metadata": {},
   "outputs": [],
   "source": [
    "X_df=pd.DataFrame(X)"
   ]
  },
  {
   "cell_type": "code",
   "execution_count": 27,
   "metadata": {},
   "outputs": [],
   "source": [
    "#join embedding matrix with dic to be able to get word vectors by word in song\n",
    "wv_df=pd.DataFrame.from_dict(dic_vocabulary, orient='index', columns=['loc']).join(df_wv)"
   ]
  },
  {
   "cell_type": "code",
   "execution_count": 28,
   "metadata": {},
   "outputs": [],
   "source": [
    "wv_df=wv_df.set_index('loc')\n"
   ]
  },
  {
   "cell_type": "code",
   "execution_count": 29,
   "metadata": {},
   "outputs": [
    {
     "data": {
      "text/html": [
       "<div>\n",
       "<style scoped>\n",
       "    .dataframe tbody tr th:only-of-type {\n",
       "        vertical-align: middle;\n",
       "    }\n",
       "\n",
       "    .dataframe tbody tr th {\n",
       "        vertical-align: top;\n",
       "    }\n",
       "\n",
       "    .dataframe thead th {\n",
       "        text-align: right;\n",
       "    }\n",
       "</style>\n",
       "<table border=\"1\" class=\"dataframe\">\n",
       "  <thead>\n",
       "    <tr style=\"text-align: right;\">\n",
       "      <th></th>\n",
       "      <th>0</th>\n",
       "      <th>1</th>\n",
       "      <th>2</th>\n",
       "      <th>3</th>\n",
       "      <th>4</th>\n",
       "      <th>5</th>\n",
       "      <th>6</th>\n",
       "      <th>7</th>\n",
       "      <th>8</th>\n",
       "      <th>9</th>\n",
       "      <th>...</th>\n",
       "      <th>290</th>\n",
       "      <th>291</th>\n",
       "      <th>292</th>\n",
       "      <th>293</th>\n",
       "      <th>294</th>\n",
       "      <th>295</th>\n",
       "      <th>296</th>\n",
       "      <th>297</th>\n",
       "      <th>298</th>\n",
       "      <th>299</th>\n",
       "    </tr>\n",
       "    <tr>\n",
       "      <th>loc</th>\n",
       "      <th></th>\n",
       "      <th></th>\n",
       "      <th></th>\n",
       "      <th></th>\n",
       "      <th></th>\n",
       "      <th></th>\n",
       "      <th></th>\n",
       "      <th></th>\n",
       "      <th></th>\n",
       "      <th></th>\n",
       "      <th></th>\n",
       "      <th></th>\n",
       "      <th></th>\n",
       "      <th></th>\n",
       "      <th></th>\n",
       "      <th></th>\n",
       "      <th></th>\n",
       "      <th></th>\n",
       "      <th></th>\n",
       "      <th></th>\n",
       "      <th></th>\n",
       "    </tr>\n",
       "  </thead>\n",
       "  <tbody>\n",
       "    <tr>\n",
       "      <th>1</th>\n",
       "      <td>-0.147987</td>\n",
       "      <td>0.074612</td>\n",
       "      <td>0.052261</td>\n",
       "      <td>0.047379</td>\n",
       "      <td>0.022288</td>\n",
       "      <td>-0.068162</td>\n",
       "      <td>0.177176</td>\n",
       "      <td>0.267950</td>\n",
       "      <td>-0.177375</td>\n",
       "      <td>0.085987</td>\n",
       "      <td>...</td>\n",
       "      <td>0.068076</td>\n",
       "      <td>0.302823</td>\n",
       "      <td>0.070944</td>\n",
       "      <td>-0.173173</td>\n",
       "      <td>-0.239105</td>\n",
       "      <td>0.245255</td>\n",
       "      <td>0.190572</td>\n",
       "      <td>-0.168747</td>\n",
       "      <td>-0.080344</td>\n",
       "      <td>-0.116640</td>\n",
       "    </tr>\n",
       "    <tr>\n",
       "      <th>2</th>\n",
       "      <td>-0.073968</td>\n",
       "      <td>0.016434</td>\n",
       "      <td>0.120586</td>\n",
       "      <td>0.024047</td>\n",
       "      <td>-0.072568</td>\n",
       "      <td>-0.109635</td>\n",
       "      <td>0.164392</td>\n",
       "      <td>0.024587</td>\n",
       "      <td>-0.127968</td>\n",
       "      <td>-0.096691</td>\n",
       "      <td>...</td>\n",
       "      <td>0.031903</td>\n",
       "      <td>0.226809</td>\n",
       "      <td>0.059779</td>\n",
       "      <td>-0.288961</td>\n",
       "      <td>-0.094411</td>\n",
       "      <td>0.079313</td>\n",
       "      <td>0.187673</td>\n",
       "      <td>-0.073585</td>\n",
       "      <td>-0.205779</td>\n",
       "      <td>0.078755</td>\n",
       "    </tr>\n",
       "    <tr>\n",
       "      <th>3</th>\n",
       "      <td>-0.072928</td>\n",
       "      <td>0.220660</td>\n",
       "      <td>-0.068058</td>\n",
       "      <td>-0.050958</td>\n",
       "      <td>-0.022341</td>\n",
       "      <td>-0.108904</td>\n",
       "      <td>-0.006726</td>\n",
       "      <td>0.034973</td>\n",
       "      <td>-0.053293</td>\n",
       "      <td>-0.170799</td>\n",
       "      <td>...</td>\n",
       "      <td>-0.098284</td>\n",
       "      <td>0.089123</td>\n",
       "      <td>0.006271</td>\n",
       "      <td>0.034602</td>\n",
       "      <td>-0.208471</td>\n",
       "      <td>-0.097697</td>\n",
       "      <td>0.130751</td>\n",
       "      <td>-0.175251</td>\n",
       "      <td>0.034474</td>\n",
       "      <td>-0.154542</td>\n",
       "    </tr>\n",
       "    <tr>\n",
       "      <th>4</th>\n",
       "      <td>-0.117229</td>\n",
       "      <td>0.085262</td>\n",
       "      <td>0.230977</td>\n",
       "      <td>-0.152745</td>\n",
       "      <td>-0.133891</td>\n",
       "      <td>-0.258076</td>\n",
       "      <td>-0.028485</td>\n",
       "      <td>0.569459</td>\n",
       "      <td>-0.344241</td>\n",
       "      <td>0.026958</td>\n",
       "      <td>...</td>\n",
       "      <td>-0.028144</td>\n",
       "      <td>0.168748</td>\n",
       "      <td>-0.151519</td>\n",
       "      <td>-0.011959</td>\n",
       "      <td>-0.118888</td>\n",
       "      <td>0.093834</td>\n",
       "      <td>0.142272</td>\n",
       "      <td>-0.039277</td>\n",
       "      <td>0.112631</td>\n",
       "      <td>0.244770</td>\n",
       "    </tr>\n",
       "    <tr>\n",
       "      <th>5</th>\n",
       "      <td>-0.107298</td>\n",
       "      <td>0.190363</td>\n",
       "      <td>0.182451</td>\n",
       "      <td>0.020499</td>\n",
       "      <td>-0.070588</td>\n",
       "      <td>-0.185811</td>\n",
       "      <td>0.226441</td>\n",
       "      <td>0.021733</td>\n",
       "      <td>-0.104017</td>\n",
       "      <td>-0.376815</td>\n",
       "      <td>...</td>\n",
       "      <td>-0.012324</td>\n",
       "      <td>0.205903</td>\n",
       "      <td>-0.084269</td>\n",
       "      <td>-0.030024</td>\n",
       "      <td>-0.088087</td>\n",
       "      <td>-0.182420</td>\n",
       "      <td>0.147365</td>\n",
       "      <td>0.095007</td>\n",
       "      <td>-0.107181</td>\n",
       "      <td>0.184106</td>\n",
       "    </tr>\n",
       "  </tbody>\n",
       "</table>\n",
       "<p>5 rows × 300 columns</p>\n",
       "</div>"
      ],
      "text/plain": [
       "          0         1         2         3         4         5         6    \\\n",
       "loc                                                                         \n",
       "1   -0.147987  0.074612  0.052261  0.047379  0.022288 -0.068162  0.177176   \n",
       "2   -0.073968  0.016434  0.120586  0.024047 -0.072568 -0.109635  0.164392   \n",
       "3   -0.072928  0.220660 -0.068058 -0.050958 -0.022341 -0.108904 -0.006726   \n",
       "4   -0.117229  0.085262  0.230977 -0.152745 -0.133891 -0.258076 -0.028485   \n",
       "5   -0.107298  0.190363  0.182451  0.020499 -0.070588 -0.185811  0.226441   \n",
       "\n",
       "          7         8         9    ...       290       291       292  \\\n",
       "loc                                ...                                 \n",
       "1    0.267950 -0.177375  0.085987  ...  0.068076  0.302823  0.070944   \n",
       "2    0.024587 -0.127968 -0.096691  ...  0.031903  0.226809  0.059779   \n",
       "3    0.034973 -0.053293 -0.170799  ... -0.098284  0.089123  0.006271   \n",
       "4    0.569459 -0.344241  0.026958  ... -0.028144  0.168748 -0.151519   \n",
       "5    0.021733 -0.104017 -0.376815  ... -0.012324  0.205903 -0.084269   \n",
       "\n",
       "          293       294       295       296       297       298       299  \n",
       "loc                                                                        \n",
       "1   -0.173173 -0.239105  0.245255  0.190572 -0.168747 -0.080344 -0.116640  \n",
       "2   -0.288961 -0.094411  0.079313  0.187673 -0.073585 -0.205779  0.078755  \n",
       "3    0.034602 -0.208471 -0.097697  0.130751 -0.175251  0.034474 -0.154542  \n",
       "4   -0.011959 -0.118888  0.093834  0.142272 -0.039277  0.112631  0.244770  \n",
       "5   -0.030024 -0.088087 -0.182420  0.147365  0.095007 -0.107181  0.184106  \n",
       "\n",
       "[5 rows x 300 columns]"
      ]
     },
     "execution_count": 29,
     "metadata": {},
     "output_type": "execute_result"
    }
   ],
   "source": [
    "wv_df.head()"
   ]
  },
  {
   "cell_type": "code",
   "execution_count": 30,
   "metadata": {},
   "outputs": [],
   "source": [
    "#get averages of word vectors by song\n",
    "wv_list=[]\n",
    "for a in X: #song array in X\n",
    "    song_wv=[]\n",
    "    for i in a: #index of word vector embeddings matrix\n",
    "        if i>0:\n",
    "            vec=list(wv_df.iloc[i-1]) #get word vector for word in song\n",
    "            song_wv.append(vec) #append word vector to song list\n",
    "            #get column averages by song \n",
    "        else:\n",
    "            pass\n",
    "    np_song = np.array(song_wv)\n",
    "    mean_song=np.mean(np_song, axis=0)\n",
    "    wv_list.append(mean_song)"
   ]
  },
  {
   "cell_type": "code",
   "execution_count": 31,
   "metadata": {},
   "outputs": [],
   "source": [
    "df_wordvec=pd.DataFrame(wv_list)\n",
    "df_wordvec.to_pickle(\"df_wordvec\")"
   ]
  },
  {
   "cell_type": "markdown",
   "metadata": {},
   "source": [
    "## Create neural net"
   ]
  },
  {
   "cell_type": "code",
   "execution_count": 32,
   "metadata": {},
   "outputs": [],
   "source": [
    "y=pd.cut(df.Rank,bins=[0,50,100],labels=[1,0])"
   ]
  },
  {
   "cell_type": "code",
   "execution_count": 33,
   "metadata": {},
   "outputs": [],
   "source": [
    "## split dataset\n",
    "X_train, X_test, y_train, y_test = train_test_split(X_df,y, test_size=0.33, random_state=42)"
   ]
  },
  {
   "cell_type": "code",
   "execution_count": 34,
   "metadata": {},
   "outputs": [
    {
     "name": "stdout",
     "output_type": "stream",
     "text": [
      "Model: \"model\"\n",
      "__________________________________________________________________________________________________\n",
      "Layer (type)                    Output Shape         Param #     Connected to                     \n",
      "==================================================================================================\n",
      "input_1 (InputLayer)            [(None, 1290)]       0                                            \n",
      "__________________________________________________________________________________________________\n",
      "embedding (Embedding)           (None, 1290, 300)    5589600     input_1[0][0]                    \n",
      "__________________________________________________________________________________________________\n",
      "permute (Permute)               (None, 300, 1290)    0           embedding[0][0]                  \n",
      "__________________________________________________________________________________________________\n",
      "dense (Dense)                   (None, 300, 1290)    1665390     permute[0][0]                    \n",
      "__________________________________________________________________________________________________\n",
      "attention (Permute)             (None, 1290, 300)    0           dense[0][0]                      \n",
      "__________________________________________________________________________________________________\n",
      "multiply (Multiply)             (None, 1290, 300)    0           embedding[0][0]                  \n",
      "                                                                 attention[0][0]                  \n",
      "__________________________________________________________________________________________________\n",
      "bidirectional (Bidirectional)   (None, 1290, 2580)   16419120    multiply[0][0]                   \n",
      "__________________________________________________________________________________________________\n",
      "bidirectional_1 (Bidirectional) (None, 2580)         39948720    bidirectional[0][0]              \n",
      "__________________________________________________________________________________________________\n",
      "dense_1 (Dense)                 (None, 64)           165184      bidirectional_1[0][0]            \n",
      "__________________________________________________________________________________________________\n",
      "dense_2 (Dense)                 (None, 3)            195         dense_1[0][0]                    \n",
      "==================================================================================================\n",
      "Total params: 63,788,209\n",
      "Trainable params: 58,198,609\n",
      "Non-trainable params: 5,589,600\n",
      "__________________________________________________________________________________________________\n"
     ]
    }
   ],
   "source": [
    "\n",
    "embeddings=df_wv\n",
    "## code attention layer\n",
    "def attention_layer(inputs, neurons):\n",
    "    x = layers.Permute((2,1))(inputs)\n",
    "    x = layers.Dense(neurons, activation=\"softmax\")(x)\n",
    "    x = layers.Permute((2,1), name=\"attention\")(x)\n",
    "    x = layers.multiply([inputs, x])\n",
    "    return x\n",
    "\n",
    "## input\n",
    "x_in = layers.Input(shape=(max_len,))\n",
    "## embedding\n",
    "x = layers.Embedding(input_dim=embeddings.shape[0],  \n",
    "                     output_dim=embeddings.shape[1], \n",
    "                     weights=[embeddings],\n",
    "                     input_length=max_len, trainable=False)(x_in)\n",
    "## apply attention\n",
    "x = attention_layer(x, neurons=max_len)\n",
    "## 2 layers of bidirectional lstm\n",
    "x = layers.Bidirectional(layers.LSTM(units=max_len, dropout=0.2, \n",
    "                         return_sequences=True))(x)\n",
    "x = layers.Bidirectional(layers.LSTM(units=max_len, dropout=0.2))(x)\n",
    "## final dense layers\n",
    "x = layers.Dense(64, activation='relu')(x)\n",
    "y_out = layers.Dense(3, activation='softmax')(x)\n",
    "## compile\n",
    "model = models.Model(x_in, y_out)\n",
    "model.compile(loss='sparse_categorical_crossentropy',\n",
    "              optimizer='adam', metrics=['accuracy'])\n",
    "\n",
    "model.summary()"
   ]
  },
  {
   "cell_type": "code",
   "execution_count": null,
   "metadata": {},
   "outputs": [],
   "source": [
    "## encode y\n",
    "dic_y_mapping = {n:label for n,label in \n",
    "                 enumerate(np.unique(y_train))}\n",
    "inverse_dic = {v:k for k,v in dic_y_mapping.items()}\n",
    "y_train = np.array([inverse_dic[y] for y in y_train])\n",
    "## train\n",
    "training = model.fit(x=X_train, y=y_train, batch_size=256, \n",
    "                     epochs=10, shuffle=True, verbose=0, \n",
    "                     validation_split=0.3)\n",
    "## plot loss and accuracy\n",
    "metrics = [k for k in training.history.keys() if (\"loss\" not in k) and (\"val\" not in k)]\n",
    "fig, ax = plt.subplots(nrows=1, ncols=2, sharey=True)\n",
    "ax[0].set(title=\"Training\")\n",
    "ax11 = ax[0].twinx()\n",
    "ax[0].plot(training.history['loss'], color='black')\n",
    "ax[0].set_xlabel('Epochs')\n",
    "ax[0].set_ylabel('Loss', color='black')\n",
    "for metric in metrics:\n",
    "    ax11.plot(training.history[metric], label=metric)\n",
    "ax11.set_ylabel(\"Score\", color='steelblue')\n",
    "ax11.legend()\n",
    "ax[1].set(title=\"Validation\")\n",
    "ax22 = ax[1].twinx()\n",
    "ax[1].plot(training.history['val_loss'], color='black')\n",
    "ax[1].set_xlabel('Epochs')\n",
    "ax[1].set_ylabel('Loss', color='black')\n",
    "for metric in metrics:\n",
    "     ax22.plot(training.history['val_'+metric], label=metric)\n",
    "ax22.set_ylabel(\"Score\", color=\"steelblue\")\n",
    "plt.show()"
   ]
  },
  {
   "cell_type": "code",
   "execution_count": null,
   "metadata": {},
   "outputs": [],
   "source": []
  }
 ],
 "metadata": {
  "kernelspec": {
   "display_name": "Python 3",
   "language": "python",
   "name": "python3"
  },
  "language_info": {
   "codemirror_mode": {
    "name": "ipython",
    "version": 3
   },
   "file_extension": ".py",
   "mimetype": "text/x-python",
   "name": "python",
   "nbconvert_exporter": "python",
   "pygments_lexer": "ipython3",
   "version": "3.8.5"
  }
 },
 "nbformat": 4,
 "nbformat_minor": 4
}
