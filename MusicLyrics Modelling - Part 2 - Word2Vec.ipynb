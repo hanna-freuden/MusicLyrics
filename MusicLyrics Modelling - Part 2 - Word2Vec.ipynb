{
 "cells": [
  {
   "cell_type": "markdown",
   "metadata": {},
   "source": [
    "# Get word embeddings using Word2Vec"
   ]
  },
  {
   "cell_type": "markdown",
   "metadata": {},
   "source": [
    "Credits: https://towardsdatascience.com/a-beginners-guide-to-word-embedding-with-gensim-word2vec-model-5970fa56cc92#702d"
   ]
  },
  {
   "cell_type": "code",
   "execution_count": 1,
   "metadata": {},
   "outputs": [],
   "source": [
    "import pandas as pd\n",
    "import numpy as np\n",
    "from sklearn import feature_extraction, model_selection, naive_bayes, pipeline, manifold, preprocessing\n",
    "import matplotlib.pyplot as plt\n",
    "import seaborn as sns\n",
    "from sklearn.model_selection import train_test_split"
   ]
  },
  {
   "cell_type": "code",
   "execution_count": 2,
   "metadata": {},
   "outputs": [],
   "source": [
    "#pip install --upgrade gensim\n",
    "from gensim.models import Word2Vec"
   ]
  },
  {
   "cell_type": "code",
   "execution_count": 3,
   "metadata": {},
   "outputs": [],
   "source": [
    "df = pd.DataFrame(pd.read_pickle('df_tokenized'))\n",
    "#target\n",
    "y=pd.cut(df.Rank,bins=[0,50,100],labels=[1,0])\n",
    "#features\n",
    "df=df['tokens']"
   ]
  },
  {
   "cell_type": "code",
   "execution_count": 4,
   "metadata": {},
   "outputs": [],
   "source": [
    "## split dataset\n",
    "X_train, X_test, y_train, y_test = train_test_split(df,y, test_size=0.33, random_state=42)"
   ]
  },
  {
   "cell_type": "code",
   "execution_count": 5,
   "metadata": {},
   "outputs": [],
   "source": [
    "#preprocessing - gensim requires list of list representation\n",
    "\n",
    "token_list=[]\n",
    "for r in X_train:\n",
    "    token_list.append(r)\n",
    "\n",
    "    "
   ]
  },
  {
   "cell_type": "code",
   "execution_count": 6,
   "metadata": {},
   "outputs": [],
   "source": [
    "#train gensim word2vec model\n",
    "model = Word2Vec(token_list,vector_size=300,window=8, min_count=1, sg=1)"
   ]
  },
  {
   "cell_type": "code",
   "execution_count": 7,
   "metadata": {},
   "outputs": [
    {
     "name": "stdout",
     "output_type": "stream",
     "text": [
      "size of word vector:  300\n"
     ]
    }
   ],
   "source": [
    "print(\"size of word vector: \", len(model.wv['love']))"
   ]
  },
  {
   "cell_type": "code",
   "execution_count": 8,
   "metadata": {},
   "outputs": [
    {
     "data": {
      "text/plain": [
       "0.27932262"
      ]
     },
     "execution_count": 8,
     "metadata": {},
     "output_type": "execute_result"
    }
   ],
   "source": [
    "model.wv.similarity('love', 'like')"
   ]
  },
  {
   "cell_type": "code",
   "execution_count": 9,
   "metadata": {},
   "outputs": [
    {
     "data": {
      "text/plain": [
       "0.3359967"
      ]
     },
     "execution_count": 9,
     "metadata": {},
     "output_type": "execute_result"
    }
   ],
   "source": [
    "model.wv.similarity('love', 'hate')"
   ]
  },
  {
   "cell_type": "code",
   "execution_count": 10,
   "metadata": {},
   "outputs": [
    {
     "data": {
      "text/plain": [
       "[('numbness', 0.6953150629997253),\n",
       " ('youthful', 0.6672893762588501),\n",
       " ('sensitive', 0.652812659740448),\n",
       " ('unfurl', 0.6463536620140076),\n",
       " ('satisfy', 0.6426259279251099),\n",
       " ('forsake', 0.6425955891609192),\n",
       " ('denied', 0.6420348286628723),\n",
       " ('yearning', 0.6397879719734192),\n",
       " ('willi', 0.6392258405685425),\n",
       " ('indefinitely', 0.6388156414031982)]"
      ]
     },
     "execution_count": 10,
     "metadata": {},
     "output_type": "execute_result"
    }
   ],
   "source": [
    "model.wv.most_similar('love')"
   ]
  },
  {
   "cell_type": "code",
   "execution_count": 11,
   "metadata": {},
   "outputs": [
    {
     "data": {
      "text/plain": [
       "13674"
      ]
     },
     "execution_count": 11,
     "metadata": {},
     "output_type": "execute_result"
    }
   ],
   "source": [
    "#set of all tokens\n",
    "tokens=[]\n",
    "for r in X_train:\n",
    "    for token in r:\n",
    "        tokens.append(token)\n",
    "set_tokens=set(tokens)\n",
    "len(set_tokens)"
   ]
  },
  {
   "cell_type": "code",
   "execution_count": 12,
   "metadata": {},
   "outputs": [],
   "source": [
    "#cosine similarity\n",
    "from numpy.linalg import norm\n",
    "def cosine_distance (model, word,target_list , num) :\n",
    "    cosine_dict ={}\n",
    "    word_list = []\n",
    "    a = model.wv[word]\n",
    "    for item in target_list :\n",
    "        if item != word :\n",
    "            b = model.wv[item]\n",
    "            cos_sim = np.dot(a, b)/(norm(a)*norm(b))\n",
    "            cosine_dict[item] = cos_sim\n",
    "    dist_sort=sorted(cosine_dict.items(), key=lambda dist: dist[1],reverse = True) ## in Descending order \n",
    "    for item in dist_sort:\n",
    "        word_list.append((item[0], item[1]))\n",
    "    return word_list[0:num]"
   ]
  },
  {
   "cell_type": "code",
   "execution_count": 13,
   "metadata": {},
   "outputs": [
    {
     "data": {
      "text/plain": [
       "[('numbness', 0.6953151),\n",
       " ('youthful', 0.66728956),\n",
       " ('sensitive', 0.6528127),\n",
       " ('unfurl', 0.64635366),\n",
       " ('satisfy', 0.64262587)]"
      ]
     },
     "execution_count": 13,
     "metadata": {},
     "output_type": "execute_result"
    }
   ],
   "source": [
    "cosine_distance(model,'love',set_tokens,5)"
   ]
  },
  {
   "cell_type": "markdown",
   "metadata": {},
   "source": [
    "## Embedding matrix"
   ]
  },
  {
   "cell_type": "markdown",
   "metadata": {},
   "source": [
    "The embedding matrix has the following dimensions: number of columns equal to the number of the embedding dimension (here:300) x number of unique words. Matrix of word embeddings will be used as a weight matrix in the neural network classifier."
   ]
  },
  {
   "cell_type": "code",
   "execution_count": 14,
   "metadata": {},
   "outputs": [],
   "source": [
    "#use word vectors as features\n",
    "def get_word_vectors(model, set_tokens):\n",
    "    wv=[]\n",
    "    for token in set_tokens:\n",
    "        wv.append(model.wv[token])\n",
    "\n",
    "    wv=pd.DataFrame(wv, index=list(set_tokens))\n",
    "    \n",
    "    return wv\n",
    "        \n",
    "df_wv=get_word_vectors(model,set_tokens)\n"
   ]
  },
  {
   "cell_type": "code",
   "execution_count": 15,
   "metadata": {},
   "outputs": [
    {
     "data": {
      "text/html": [
       "<div>\n",
       "<style scoped>\n",
       "    .dataframe tbody tr th:only-of-type {\n",
       "        vertical-align: middle;\n",
       "    }\n",
       "\n",
       "    .dataframe tbody tr th {\n",
       "        vertical-align: top;\n",
       "    }\n",
       "\n",
       "    .dataframe thead th {\n",
       "        text-align: right;\n",
       "    }\n",
       "</style>\n",
       "<table border=\"1\" class=\"dataframe\">\n",
       "  <thead>\n",
       "    <tr style=\"text-align: right;\">\n",
       "      <th></th>\n",
       "      <th>0</th>\n",
       "      <th>1</th>\n",
       "      <th>2</th>\n",
       "      <th>3</th>\n",
       "      <th>4</th>\n",
       "      <th>5</th>\n",
       "      <th>6</th>\n",
       "      <th>7</th>\n",
       "      <th>8</th>\n",
       "      <th>9</th>\n",
       "      <th>...</th>\n",
       "      <th>290</th>\n",
       "      <th>291</th>\n",
       "      <th>292</th>\n",
       "      <th>293</th>\n",
       "      <th>294</th>\n",
       "      <th>295</th>\n",
       "      <th>296</th>\n",
       "      <th>297</th>\n",
       "      <th>298</th>\n",
       "      <th>299</th>\n",
       "    </tr>\n",
       "  </thead>\n",
       "  <tbody>\n",
       "    <tr>\n",
       "      <th>gorilla</th>\n",
       "      <td>-0.079145</td>\n",
       "      <td>-0.006193</td>\n",
       "      <td>0.072533</td>\n",
       "      <td>0.061944</td>\n",
       "      <td>-0.006724</td>\n",
       "      <td>0.039238</td>\n",
       "      <td>0.060873</td>\n",
       "      <td>0.031630</td>\n",
       "      <td>0.063465</td>\n",
       "      <td>0.034930</td>\n",
       "      <td>...</td>\n",
       "      <td>0.048728</td>\n",
       "      <td>-0.009899</td>\n",
       "      <td>0.110652</td>\n",
       "      <td>-0.086736</td>\n",
       "      <td>0.007542</td>\n",
       "      <td>0.188761</td>\n",
       "      <td>-0.045126</td>\n",
       "      <td>-0.116713</td>\n",
       "      <td>0.071256</td>\n",
       "      <td>-0.064653</td>\n",
       "    </tr>\n",
       "    <tr>\n",
       "      <th>lockdown</th>\n",
       "      <td>-0.100143</td>\n",
       "      <td>0.259577</td>\n",
       "      <td>0.422064</td>\n",
       "      <td>-0.073646</td>\n",
       "      <td>-0.067288</td>\n",
       "      <td>0.056489</td>\n",
       "      <td>0.468386</td>\n",
       "      <td>0.417156</td>\n",
       "      <td>0.357477</td>\n",
       "      <td>-0.136470</td>\n",
       "      <td>...</td>\n",
       "      <td>0.119063</td>\n",
       "      <td>-0.336611</td>\n",
       "      <td>0.419891</td>\n",
       "      <td>-0.530535</td>\n",
       "      <td>-0.119969</td>\n",
       "      <td>0.238450</td>\n",
       "      <td>0.000516</td>\n",
       "      <td>-0.544624</td>\n",
       "      <td>0.232406</td>\n",
       "      <td>-0.266920</td>\n",
       "    </tr>\n",
       "    <tr>\n",
       "      <th>standard</th>\n",
       "      <td>-0.052428</td>\n",
       "      <td>-0.028799</td>\n",
       "      <td>0.035574</td>\n",
       "      <td>0.025988</td>\n",
       "      <td>-0.003427</td>\n",
       "      <td>-0.016190</td>\n",
       "      <td>0.050500</td>\n",
       "      <td>0.018597</td>\n",
       "      <td>0.064133</td>\n",
       "      <td>0.050584</td>\n",
       "      <td>...</td>\n",
       "      <td>0.019105</td>\n",
       "      <td>-0.029032</td>\n",
       "      <td>0.115665</td>\n",
       "      <td>-0.119825</td>\n",
       "      <td>-0.000891</td>\n",
       "      <td>0.152671</td>\n",
       "      <td>-0.039994</td>\n",
       "      <td>-0.096684</td>\n",
       "      <td>0.063665</td>\n",
       "      <td>-0.011112</td>\n",
       "    </tr>\n",
       "    <tr>\n",
       "      <th>gold</th>\n",
       "      <td>0.282676</td>\n",
       "      <td>-0.190009</td>\n",
       "      <td>0.126973</td>\n",
       "      <td>0.099592</td>\n",
       "      <td>0.170017</td>\n",
       "      <td>0.089717</td>\n",
       "      <td>0.051359</td>\n",
       "      <td>-0.045861</td>\n",
       "      <td>0.359999</td>\n",
       "      <td>-0.234365</td>\n",
       "      <td>...</td>\n",
       "      <td>0.139223</td>\n",
       "      <td>0.343076</td>\n",
       "      <td>0.171347</td>\n",
       "      <td>0.109004</td>\n",
       "      <td>0.049129</td>\n",
       "      <td>0.401316</td>\n",
       "      <td>-0.191278</td>\n",
       "      <td>-0.178892</td>\n",
       "      <td>0.184695</td>\n",
       "      <td>-0.298777</td>\n",
       "    </tr>\n",
       "    <tr>\n",
       "      <th>lobby</th>\n",
       "      <td>-0.106667</td>\n",
       "      <td>-0.044726</td>\n",
       "      <td>0.088510</td>\n",
       "      <td>0.079639</td>\n",
       "      <td>-0.012891</td>\n",
       "      <td>0.029740</td>\n",
       "      <td>0.085457</td>\n",
       "      <td>-0.015100</td>\n",
       "      <td>0.092464</td>\n",
       "      <td>0.079139</td>\n",
       "      <td>...</td>\n",
       "      <td>0.035695</td>\n",
       "      <td>-0.005415</td>\n",
       "      <td>0.080780</td>\n",
       "      <td>-0.093076</td>\n",
       "      <td>-0.015079</td>\n",
       "      <td>0.191705</td>\n",
       "      <td>-0.035350</td>\n",
       "      <td>-0.099658</td>\n",
       "      <td>0.052705</td>\n",
       "      <td>-0.057715</td>\n",
       "    </tr>\n",
       "  </tbody>\n",
       "</table>\n",
       "<p>5 rows × 300 columns</p>\n",
       "</div>"
      ],
      "text/plain": [
       "               0         1         2         3         4         5    \\\n",
       "gorilla  -0.079145 -0.006193  0.072533  0.061944 -0.006724  0.039238   \n",
       "lockdown -0.100143  0.259577  0.422064 -0.073646 -0.067288  0.056489   \n",
       "standard -0.052428 -0.028799  0.035574  0.025988 -0.003427 -0.016190   \n",
       "gold      0.282676 -0.190009  0.126973  0.099592  0.170017  0.089717   \n",
       "lobby    -0.106667 -0.044726  0.088510  0.079639 -0.012891  0.029740   \n",
       "\n",
       "               6         7         8         9    ...       290       291  \\\n",
       "gorilla   0.060873  0.031630  0.063465  0.034930  ...  0.048728 -0.009899   \n",
       "lockdown  0.468386  0.417156  0.357477 -0.136470  ...  0.119063 -0.336611   \n",
       "standard  0.050500  0.018597  0.064133  0.050584  ...  0.019105 -0.029032   \n",
       "gold      0.051359 -0.045861  0.359999 -0.234365  ...  0.139223  0.343076   \n",
       "lobby     0.085457 -0.015100  0.092464  0.079139  ...  0.035695 -0.005415   \n",
       "\n",
       "               292       293       294       295       296       297  \\\n",
       "gorilla   0.110652 -0.086736  0.007542  0.188761 -0.045126 -0.116713   \n",
       "lockdown  0.419891 -0.530535 -0.119969  0.238450  0.000516 -0.544624   \n",
       "standard  0.115665 -0.119825 -0.000891  0.152671 -0.039994 -0.096684   \n",
       "gold      0.171347  0.109004  0.049129  0.401316 -0.191278 -0.178892   \n",
       "lobby     0.080780 -0.093076 -0.015079  0.191705 -0.035350 -0.099658   \n",
       "\n",
       "               298       299  \n",
       "gorilla   0.071256 -0.064653  \n",
       "lockdown  0.232406 -0.266920  \n",
       "standard  0.063665 -0.011112  \n",
       "gold      0.184695 -0.298777  \n",
       "lobby     0.052705 -0.057715  \n",
       "\n",
       "[5 rows x 300 columns]"
      ]
     },
     "execution_count": 15,
     "metadata": {},
     "output_type": "execute_result"
    }
   ],
   "source": [
    "df_wv.head()"
   ]
  },
  {
   "cell_type": "code",
   "execution_count": 16,
   "metadata": {},
   "outputs": [
    {
     "data": {
      "text/plain": [
       "(13674, 300)"
      ]
     },
     "execution_count": 16,
     "metadata": {},
     "output_type": "execute_result"
    }
   ],
   "source": [
    "df_wv.shape"
   ]
  },
  {
   "cell_type": "code",
   "execution_count": 17,
   "metadata": {},
   "outputs": [
    {
     "data": {
      "image/png": "[encoded data removed]",
      "text/plain": [
       "<Figure size 720x720 with 1 Axes>"
      ]
     },
     "metadata": {
      "needs_background": "light"
     },
     "output_type": "display_data"
    }
   ],
   "source": [
    "#plot word embeddings \n",
    "\n",
    "import warnings\n",
    "warnings.filterwarnings('ignore')\n",
    "word = \"love\"\n",
    "fig = plt.figure(figsize=[10,10])\n",
    "## word embedding\n",
    "tot_words = [word] + [tupla[0] for tupla in \n",
    "                 model.wv.most_similar(word, topn=20)]\n",
    "X =  model.wv[tot_words]\n",
    "## pca to reduce dimensionality from 300 to 3\n",
    "pca = manifold.TSNE(perplexity=40, n_components=3, init='pca')\n",
    "X = pca.fit_transform(X)\n",
    "## create dtf\n",
    "dtf_ = pd.DataFrame(X, index=tot_words, columns=[\"x\",\"y\",\"z\"])\n",
    "dtf_[\"input\"] = 0\n",
    "dtf_[\"input\"].iloc[0:1] = 1\n",
    "## plot 3d\n",
    "from mpl_toolkits.mplot3d import Axes3D\n",
    "ax = fig.add_subplot(111, projection='3d')\n",
    "ax.scatter(dtf_[dtf_[\"input\"]==0]['x'], \n",
    "           dtf_[dtf_[\"input\"]==0]['y'], \n",
    "           dtf_[dtf_[\"input\"]==0]['z'], c=\"black\")\n",
    "ax.scatter(dtf_[dtf_[\"input\"]==1]['x'], \n",
    "           dtf_[dtf_[\"input\"]==1]['y'], \n",
    "           dtf_[dtf_[\"input\"]==1]['z'], c=\"red\")\n",
    "ax.set(xlabel=None, ylabel=None, zlabel=None, xticklabels=[], \n",
    "       yticklabels=[], zticklabels=[])\n",
    "for label, row in dtf_[[\"x\",\"y\",\"z\"]].iterrows():\n",
    "    x, y, z = row\n",
    "    ax.text(x, y, z, s=label)"
   ]
  },
  {
   "cell_type": "markdown",
   "metadata": {},
   "source": [
    "## Neural Network using word embeddings"
   ]
  },
  {
   "cell_type": "markdown",
   "metadata": {},
   "source": [
    "Credits: https://towardsdatascience.com/text-classification-with-nlp-tf-idf-vs-word2vec-vs-bert-41ff868d1794"
   ]
  },
  {
   "cell_type": "code",
   "execution_count": 18,
   "metadata": {},
   "outputs": [],
   "source": [
    "from tensorflow.keras import models, layers, preprocessing as kprocessing\n",
    "from tensorflow.keras import backend as K"
   ]
  },
  {
   "cell_type": "code",
   "execution_count": 19,
   "metadata": {},
   "outputs": [
    {
     "name": "stdout",
     "output_type": "stream",
     "text": [
      "Model: \"model\"\n",
      "__________________________________________________________________________________________________\n",
      "Layer (type)                    Output Shape         Param #     Connected to                     \n",
      "==================================================================================================\n",
      "input_1 (InputLayer)            [(None, 15)]         0                                            \n",
      "__________________________________________________________________________________________________\n",
      "embedding (Embedding)           (None, 15, 300)      4102200     input_1[0][0]                    \n",
      "__________________________________________________________________________________________________\n",
      "permute (Permute)               (None, 300, 15)      0           embedding[0][0]                  \n",
      "__________________________________________________________________________________________________\n",
      "dense (Dense)                   (None, 300, 15)      240         permute[0][0]                    \n",
      "__________________________________________________________________________________________________\n",
      "attention (Permute)             (None, 15, 300)      0           dense[0][0]                      \n",
      "__________________________________________________________________________________________________\n",
      "multiply (Multiply)             (None, 15, 300)      0           embedding[0][0]                  \n",
      "                                                                 attention[0][0]                  \n",
      "__________________________________________________________________________________________________\n",
      "bidirectional (Bidirectional)   (None, 15, 30)       37920       multiply[0][0]                   \n",
      "__________________________________________________________________________________________________\n",
      "bidirectional_1 (Bidirectional) (None, 30)           5520        bidirectional[0][0]              \n",
      "__________________________________________________________________________________________________\n",
      "dense_1 (Dense)                 (None, 64)           1984        bidirectional_1[0][0]            \n",
      "__________________________________________________________________________________________________\n",
      "dense_2 (Dense)                 (None, 3)            195         dense_1[0][0]                    \n",
      "==================================================================================================\n",
      "Total params: 4,148,059\n",
      "Trainable params: 45,859\n",
      "Non-trainable params: 4,102,200\n",
      "__________________________________________________________________________________________________\n"
     ]
    }
   ],
   "source": [
    "embeddings=df_wv\n",
    "## code attention layer\n",
    "def attention_layer(inputs, neurons):\n",
    "    x = layers.Permute((2,1))(inputs)\n",
    "    x = layers.Dense(neurons, activation=\"softmax\")(x)\n",
    "    x = layers.Permute((2,1), name=\"attention\")(x)\n",
    "    x = layers.multiply([inputs, x])\n",
    "    return x\n",
    "\n",
    "## input\n",
    "x_in = layers.Input(shape=(15,))\n",
    "## embedding\n",
    "x = layers.Embedding(input_dim=embeddings.shape[0],  \n",
    "                     output_dim=embeddings.shape[1], \n",
    "                     weights=[embeddings],\n",
    "                     input_length=15, trainable=False)(x_in)\n",
    "## apply attention\n",
    "x = attention_layer(x, neurons=15)\n",
    "## 2 layers of bidirectional lstm\n",
    "x = layers.Bidirectional(layers.LSTM(units=15, dropout=0.2, \n",
    "                         return_sequences=True))(x)\n",
    "x = layers.Bidirectional(layers.LSTM(units=15, dropout=0.2))(x)\n",
    "## final dense layers\n",
    "x = layers.Dense(64, activation='relu')(x)\n",
    "y_out = layers.Dense(3, activation='softmax')(x)\n",
    "## compile\n",
    "model = models.Model(x_in, y_out)\n",
    "model.compile(loss='sparse_categorical_crossentropy',\n",
    "              optimizer='adam', metrics=['accuracy'])\n",
    "\n",
    "model.summary()"
   ]
  },
  {
   "cell_type": "code",
   "execution_count": null,
   "metadata": {},
   "outputs": [],
   "source": []
  }
 ],
 "metadata": {
  "kernelspec": {
   "display_name": "Python 3",
   "language": "python",
   "name": "python3"
  },
  "language_info": {
   "codemirror_mode": {
    "name": "ipython",
    "version": 3
   },
   "file_extension": ".py",
   "mimetype": "text/x-python",
   "name": "python",
   "nbconvert_exporter": "python",
   "pygments_lexer": "ipython3",
   "version": "3.8.5"
  }
 },
 "nbformat": 4,
 "nbformat_minor": 4
}
